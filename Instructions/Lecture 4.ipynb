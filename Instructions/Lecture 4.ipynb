{
 "cells": [
  {
   "cell_type": "markdown",
   "metadata": {},
   "source": [
    "q & a\n",
    "\n",
    "https://www.hackerrank.com/domains/python\n",
    "map and filter functions\n",
    "https://www.hackerrank.com/challenges/validate-list-of-email-address-with-filter/problem\n",
    "\n",
    "gambler \n",
    "monty hall\n",
    "\n",
    "sets\n",
    "dictionaries\n",
    "\n",
    "phonebook\n",
    "bullsandcows\n",
    "\n",
    "local and global variables(optional)\n",
    "classes and objects(optional)"
   ]
  },
  {
   "cell_type": "code",
   "execution_count": null,
   "metadata": {},
   "outputs": [],
   "source": [
    "import random\n",
    "import plotly.plotly as py\n",
    "import plotly.graph_objs as go\n",
    "\n",
    "\n",
    "# py.sign_in(username='isaevpd', api_key='')\n",
    "\n",
    "\n",
    "def one_try():\n",
    "    \"\"\"\n",
    "    returns True if stick wins\n",
    "    \"\"\"\n",
    "    doors = ['goat', 'goat', 'car']\n",
    "    random.shuffle(doors)\n",
    "    choice = doors.pop(0)\n",
    "    doors.remove('goat')\n",
    "    # True if stick wins\n",
    "    return choice == 'car'\n",
    "\n",
    "\n",
    "def run_trials(trials):\n",
    "    stick_wins = 0\n",
    "    swap_wins = 0\n",
    "    for _ in range(trials):\n",
    "        if one_try():\n",
    "            stick_wins += 1\n",
    "        else:\n",
    "            swap_wins += 1\n",
    "\n",
    "    return (stick_wins, swap_wins)\n",
    "\n",
    "\n",
    "# def display_sim(sim_result, title):\n",
    "\n",
    "\n",
    "sim_result = run_trials(10000)\n",
    "labels = ['Stick', 'Swap']\n",
    "\n",
    "trace = go.Pie(labels=labels, values=sim_result)\n",
    "py.iplot([trace])\n",
    "\n",
    "# display_sim(sim_result, 'Monty hall')   \n"
   ]
  },
  {
   "cell_type": "code",
   "execution_count": 3,
   "metadata": {},
   "outputs": [],
   "source": [
    "def fun(s):\n",
    "    at_index = s.find('@')\n",
    "    if at_index == -1:\n",
    "        return False\n",
    "    username = s[:at_index]\n",
    "    rest = s[at_index+1:].split('.')\n",
    "    if not username or len(rest) != 2:\n",
    "        return False\n",
    "    website, extension = rest\n",
    "    bad_characters = []\n",
    "    for character in username:\n",
    "        if not character.isalnum() and character not in ('-, _'):\n",
    "            bad_characters.append(character)\n",
    "    return not bad_characters and username and website and website.isalnum() and len(extension) <= 3"
   ]
  },
  {
   "cell_type": "code",
   "execution_count": 4,
   "metadata": {},
   "outputs": [
    {
     "name": "stdout",
     "output_type": "stream",
     "text": [
      "True\n"
     ]
    }
   ],
   "source": [
    "# print(fun('lara@hackerrank.com'))"
   ]
  },
  {
   "cell_type": "code",
   "execution_count": 94,
   "metadata": {},
   "outputs": [
    {
     "name": "stdout",
     "output_type": "stream",
     "text": [
      "None\n"
     ]
    }
   ],
   "source": [
    "print(next(filter(lambda x: x > 10, [1, 2, 3]), None))"
   ]
  },
  {
   "cell_type": "code",
   "execution_count": 89,
   "metadata": {},
   "outputs": [
    {
     "name": "stdout",
     "output_type": "stream",
     "text": [
      "['somewebsite', 'ext']\n",
      "somewebsite ext\n"
     ]
    }
   ],
   "source": [
    "rest = 'somewebsite.ext'.split('.')\n",
    "print(rest)\n",
    "website, extension = rest\n",
    "print(website, extension)"
   ]
  },
  {
   "cell_type": "code",
   "execution_count": 7,
   "metadata": {},
   "outputs": [
    {
     "name": "stdout",
     "output_type": "stream",
     "text": [
      "3\n",
      "2\n",
      "5\n",
      "1\n",
      "6\n"
     ]
    }
   ],
   "source": [
    "a = int(input())\n",
    "b = int(input())\n",
    "print(a + b)\n",
    "print(a - b)\n",
    "print(a * b)"
   ]
  },
  {
   "cell_type": "code",
   "execution_count": 32,
   "metadata": {},
   "outputs": [],
   "source": [
    "def construct_door_mat(height, width):\n",
    "    \"\"\"\n",
    "    Size: 7 x 21 \n",
    "    ---------.|.---------\n",
    "    ------.|..|..|.------\n",
    "    ---.|..|..|..|..|.---\n",
    "    -------WELCOME-------\n",
    "    ---.|..|..|..|..|.---\n",
    "    ------.|..|..|.------\n",
    "    ---------.|.---------    \n",
    "    \"\"\"\n",
    "    for i in range(height // 2):\n",
    "        print(('.|.' * (i*2+1)).center(width, '-'))\n",
    "    \n",
    "    print('WELCOME'.center(width, '-'))\n",
    "    \n",
    "    for i in range(height // 2 - 1, -1, -1):\n",
    "        print(('.|.' * (i*2+1)).center(width, '-'))"
   ]
  },
  {
   "cell_type": "code",
   "execution_count": 34,
   "metadata": {},
   "outputs": [
    {
     "name": "stdout",
     "output_type": "stream",
     "text": [
      "---------------.|.---------------\n",
      "------------.|..|..|.------------\n",
      "---------.|..|..|..|..|.---------\n",
      "------.|..|..|..|..|..|..|.------\n",
      "---.|..|..|..|..|..|..|..|..|.---\n",
      "-------------WELCOME-------------\n",
      "---.|..|..|..|..|..|..|..|..|.---\n",
      "------.|..|..|..|..|..|..|.------\n",
      "---------.|..|..|..|..|.---------\n",
      "------------.|..|..|.------------\n",
      "---------------.|.---------------\n"
     ]
    }
   ],
   "source": [
    "construct_door_mat(11, 33)"
   ]
  },
  {
   "cell_type": "code",
   "execution_count": 37,
   "metadata": {},
   "outputs": [
    {
     "name": "stdout",
     "output_type": "stream",
     "text": [
      "ABCD\n",
      "EFGH\n",
      "IJKL\n",
      "IMNO\n",
      "QRST\n",
      "UVWX\n",
      "YZ\n"
     ]
    }
   ],
   "source": [
    "import textwrap\n",
    "my_string = 'ABCDEFGHIJKLIMNOQRSTUVWXYZ'\n",
    "list_of_strings = textwrap.wrap(my_string, width=4)\n",
    "print('\\n'.join(list_of_strings))"
   ]
  },
  {
   "cell_type": "markdown",
   "metadata": {},
   "source": [
    "## Map and filter, lambda functions"
   ]
  },
  {
   "cell_type": "code",
   "execution_count": 59,
   "metadata": {},
   "outputs": [
    {
     "name": "stdout",
     "output_type": "stream",
     "text": [
      "[9, 16, 100, 225]\n"
     ]
    }
   ],
   "source": [
    "list_of_numbers = [3, 4, 10, 15]\n",
    "\n",
    "def square(x):\n",
    "    return x * x\n",
    "\n",
    "print(list(map(square, list_of_numbers)))"
   ]
  },
  {
   "cell_type": "code",
   "execution_count": 60,
   "metadata": {},
   "outputs": [
    {
     "name": "stdout",
     "output_type": "stream",
     "text": [
      "[9, 16, 100, 225]\n"
     ]
    }
   ],
   "source": [
    "# map example using list comprehension\n",
    "result = [x*x for x in list_of_numbers]\n",
    "print(result)"
   ]
  },
  {
   "cell_type": "code",
   "execution_count": 42,
   "metadata": {},
   "outputs": [
    {
     "name": "stdout",
     "output_type": "stream",
     "text": [
      "[9, 16, 100, 225]\n"
     ]
    }
   ],
   "source": [
    "list_of_numbers = [3, 4, 10, 15]\n",
    "\n",
    "print(list(map(lambda x: x*x, list_of_numbers)))"
   ]
  },
  {
   "cell_type": "code",
   "execution_count": 45,
   "metadata": {},
   "outputs": [
    {
     "name": "stdout",
     "output_type": "stream",
     "text": [
      "[19, 34]\n"
     ]
    }
   ],
   "source": [
    "list_of_numbers = [19, 34, 4, 2]\n",
    "print(list(filter(lambda x: x > 10, list_of_numbers)))"
   ]
  },
  {
   "cell_type": "code",
   "execution_count": 61,
   "metadata": {},
   "outputs": [
    {
     "name": "stdout",
     "output_type": "stream",
     "text": [
      "[19, 34]\n"
     ]
    }
   ],
   "source": [
    "# filter example using list comprehension\n",
    "list_of_numbers = [19, 34, 4, 2]\n",
    "result = [x for x in list_of_numbers if x > 10]\n",
    "print(result)"
   ]
  },
  {
   "cell_type": "code",
   "execution_count": 47,
   "metadata": {},
   "outputs": [
    {
     "name": "stdout",
     "output_type": "stream",
     "text": [
      "['Mary', 'Kevin']\n"
     ]
    }
   ],
   "source": [
    "list_of_strings = ['John', 'Mary', 'Kevin', 'George']\n",
    "print(list(filter(lambda name: name.startswith('M') or name.startswith('K'), list_of_strings)))\n",
    "\n"
   ]
  },
  {
   "cell_type": "code",
   "execution_count": 53,
   "metadata": {},
   "outputs": [],
   "source": [
    "# preferred way\n",
    "def square(x):\n",
    "    return x * x"
   ]
  },
  {
   "cell_type": "code",
   "execution_count": 50,
   "metadata": {},
   "outputs": [
    {
     "name": "stdout",
     "output_type": "stream",
     "text": [
      "4\n",
      "25\n"
     ]
    }
   ],
   "source": [
    "print(square(2))\n",
    "print(square(5))"
   ]
  },
  {
   "cell_type": "code",
   "execution_count": 82,
   "metadata": {},
   "outputs": [
    {
     "name": "stdout",
     "output_type": "stream",
     "text": [
      "4\n",
      "25\n"
     ]
    }
   ],
   "source": [
    "# valid but not preferred\n",
    "square = lambda x: x * x\n",
    "print(square(2))\n",
    "print(square(5))"
   ]
  },
  {
   "cell_type": "code",
   "execution_count": 54,
   "metadata": {},
   "outputs": [
    {
     "name": "stdout",
     "output_type": "stream",
     "text": [
      "[361, 1156, 16, 4]\n"
     ]
    }
   ],
   "source": [
    "print(list(map(lambda x: x * x, list_of_numbers)))"
   ]
  },
  {
   "cell_type": "code",
   "execution_count": 55,
   "metadata": {},
   "outputs": [],
   "source": [
    "def call_two(function_one, function_two, x, y):\n",
    "    result_from_function_one = function_one(x, y)\n",
    "    result_from_function_two = function_two(x, y)\n",
    "    return result_from_function_one, result_from_function_two"
   ]
  },
  {
   "cell_type": "code",
   "execution_count": 56,
   "metadata": {},
   "outputs": [
    {
     "name": "stdout",
     "output_type": "stream",
     "text": [
      "(25, 150)\n"
     ]
    }
   ],
   "source": [
    "print(call_two(lambda x, y: x+y, lambda x, y: x*y, 10, 15))"
   ]
  },
  {
   "cell_type": "code",
   "execution_count": 62,
   "metadata": {},
   "outputs": [
    {
     "name": "stdout",
     "output_type": "stream",
     "text": [
      "[1, 5]\n"
     ]
    }
   ],
   "source": [
    "list_of_different_things = [0, 1, None, '', 5]\n",
    "print(list(filter(None, list_of_different_things)))"
   ]
  },
  {
   "cell_type": "code",
   "execution_count": 68,
   "metadata": {},
   "outputs": [
    {
     "name": "stdout",
     "output_type": "stream",
     "text": [
      "[19, 34, 8, 4]\n"
     ]
    }
   ],
   "source": [
    "# list comprehensions with else\n",
    "list_of_numbers = [19, 34, 4, 2]\n",
    "result = [x if x > 10 else x * 2 for x in list_of_numbers]\n",
    "print(result)"
   ]
  },
  {
   "cell_type": "code",
   "execution_count": 95,
   "metadata": {},
   "outputs": [],
   "source": [
    "def fun(s):\n",
    "    at_index = s.find('@')\n",
    "    if at_index == -1:\n",
    "        return False\n",
    "    username = s[:at_index]\n",
    "    rest = s[at_index+1:].split('.')\n",
    "    if not username or len(rest) != 2:\n",
    "        return False\n",
    "    website, extension = rest\n",
    "    invalid_characters = filter(\n",
    "        lambda character: not character.isalnum() and character not in ('-', '_'),\n",
    "        username\n",
    "    )\n",
    "    if next(invalid_characters, None):\n",
    "        return False\n",
    "    # alternative way\n",
    "#     for character in username:\n",
    "#         if not character.isalnum() and character not in ('-, _'):\n",
    "#             return False\n",
    "    return username and website and website.isalnum() and len(extension) <= 3"
   ]
  },
  {
   "cell_type": "code",
   "execution_count": 96,
   "metadata": {},
   "outputs": [
    {
     "name": "stdout",
     "output_type": "stream",
     "text": [
      "True\n"
     ]
    }
   ],
   "source": [
    "print(fun('brian-23@hackerrank.com'))"
   ]
  },
  {
   "cell_type": "code",
   "execution_count": 116,
   "metadata": {},
   "outputs": [],
   "source": [
    "import random\n",
    "\n",
    "\n",
    "def one_try(coins, goal):\n",
    "    \"\"\"\n",
    "    place bets while there is at least 1 coin left\n",
    "    probability of winning is 50%, increment/decrement\n",
    "    coins after each run, return tuple\n",
    "    (number_of_bets: int, won: boolean)\n",
    "    print(one_try(5, 10)) -> (20, True)\n",
    "    print(one_try(5, 10)) -> (20, False)\n",
    "    \"\"\"\n",
    "    bets = 0\n",
    "    while 0 < coins < goal:\n",
    "        coins += (1 if random.randint(0, 1) else -1)\n",
    "        bets += 1\n",
    "    return bets, coins == goal\n",
    "\n",
    "\n",
    "def run_n_trials(coins, goal, trials):\n",
    "    \"\"\"\n",
    "    Run simulation with n trials\n",
    "    return list of tuples (number_of_bets: int, won: boolean)\n",
    "    [(20, True), (10, False), (30, True)]\n",
    "    \"\"\"\n",
    "    return [one_try(coins, goal) for _ in range(trials)]\n",
    "    \n",
    "\n",
    "\n",
    "def get_average_winrate(results):\n",
    "    total = len(results)\n",
    "    wins = len([game for game in results if game[1]])\n",
    "    avg_winrate = round(wins / total * 100.0)\n",
    "    return avg_winrate\n",
    "\n",
    "\n",
    "coins = 3\n",
    "goal = 10\n",
    "trials = 100\n",
    "\n",
    "results = run_n_trials(coins, goal, trials)\n",
    "# print(results)\n",
    "# print(f'{get_average_winrate(results)} %')"
   ]
  },
  {
   "cell_type": "code",
   "execution_count": 109,
   "metadata": {},
   "outputs": [
    {
     "name": "stdout",
     "output_type": "stream",
     "text": [
      "(9, False)\n",
      "(68, True)\n",
      "(5, False)\n",
      "(41, False)\n",
      "(27, False)\n"
     ]
    }
   ],
   "source": [
    "for _ in range(5):\n",
    "    print(one_try(3, 15))"
   ]
  },
  {
   "cell_type": "code",
   "execution_count": 115,
   "metadata": {},
   "outputs": [
    {
     "name": "stdout",
     "output_type": "stream",
     "text": [
      "[(43, False), (29, True), (13, True), (11, False), (11, True), (73, False), (43, True), (5, True), (9, True), (7, True)]\n"
     ]
    }
   ],
   "source": [
    "print(run_n_trials(5, 10, 10))"
   ]
  },
  {
   "cell_type": "code",
   "execution_count": 130,
   "metadata": {},
   "outputs": [
    {
     "name": "stdout",
     "output_type": "stream",
     "text": [
      "71 %\n",
      "72 %\n",
      "72 %\n",
      "73 %\n",
      "71 %\n",
      "73 %\n",
      "70 %\n",
      "71 %\n",
      "71 %\n",
      "70 %\n"
     ]
    }
   ],
   "source": [
    "for _ in range(10):\n",
    "    results = run_n_trials(5, 7, 1000)\n",
    "    print(f'{get_average_winrate(results)} %')"
   ]
  },
  {
   "cell_type": "code",
   "execution_count": 142,
   "metadata": {},
   "outputs": [
    {
     "data": {
      "text/plain": [
       "35.55555"
      ]
     },
     "execution_count": 142,
     "metadata": {},
     "output_type": "execute_result"
    }
   ],
   "source": [
    "round(71.1111 / 2, 5)"
   ]
  },
  {
   "cell_type": "code",
   "execution_count": 153,
   "metadata": {},
   "outputs": [
    {
     "name": "stdout",
     "output_type": "stream",
     "text": [
      "High five! You successfully sent some data to your account on plotly. View your plot in your browser at https://plot.ly/~isaevpd/0 or inside your plot.ly account where it is named 'Monty hall'\n"
     ]
    },
    {
     "data": {
      "text/html": [
       "<iframe id=\"igraph\" scrolling=\"no\" style=\"border:none;\" seamless=\"seamless\" src=\"https://plot.ly/~isaevpd/0.embed\" height=\"525px\" width=\"100%\"></iframe>"
      ],
      "text/plain": [
       "<plotly.tools.PlotlyDisplay object>"
      ]
     },
     "execution_count": 153,
     "metadata": {},
     "output_type": "execute_result"
    }
   ],
   "source": [
    "import random\n",
    "import plotly.plotly as py\n",
    "import plotly.graph_objs as go\n",
    "\n",
    "\n",
    "# py.sign_in(username='isaevpd', api_key='')\n",
    "\n",
    "\n",
    "def one_try():\n",
    "    \"\"\"\n",
    "    returns True if stick wins\n",
    "    \"\"\"\n",
    "    return 0 == random.randint(0, 2)\n",
    "#     doors = ['goat', 'goat', 'car']\n",
    "#     random.shuffle(doors)\n",
    "#     choice = doors.pop()\n",
    "#     # open a door with a goat\n",
    "#     doors.remove('goat')\n",
    "#     # True if stick wins\n",
    "#     return choice == 'car'\n",
    "\n",
    "\n",
    "def run_trials(trials):\n",
    "    stick_wins = 0\n",
    "    swap_wins = 0\n",
    "    for _ in range(trials):\n",
    "        if one_try():\n",
    "            stick_wins += 1\n",
    "        else:\n",
    "            swap_wins += 1\n",
    "    \n",
    "    return (stick_wins, swap_wins)\n",
    "\n",
    "\n",
    "\n",
    "sim_result = run_trials(1000)\n",
    "labels = ['Stick', 'Swap']\n",
    "trace = go.Pie(labels=labels, values=sim_result)\n",
    "py.iplot([trace], filename='Monty hall')\n"
   ]
  },
  {
   "cell_type": "markdown",
   "metadata": {},
   "source": [
    "## Sets"
   ]
  },
  {
   "cell_type": "code",
   "execution_count": 155,
   "metadata": {},
   "outputs": [
    {
     "name": "stdout",
     "output_type": "stream",
     "text": [
      "[0, 1, 2, 3, 4, 5, 6, 7, 8, 9, 0, 1, 2, 3, 4, 5, 6, 7, 8, 9]\n"
     ]
    }
   ],
   "source": [
    "my_list = list(range(10))\n",
    "another_list = list(range(10))\n",
    "combined = my_list + another_list\n",
    "print(combined)"
   ]
  },
  {
   "cell_type": "code",
   "execution_count": 170,
   "metadata": {},
   "outputs": [],
   "source": [
    "my_set = set(combined)"
   ]
  },
  {
   "cell_type": "code",
   "execution_count": 157,
   "metadata": {},
   "outputs": [
    {
     "data": {
      "text/plain": [
       "set"
      ]
     },
     "execution_count": 157,
     "metadata": {},
     "output_type": "execute_result"
    }
   ],
   "source": [
    "type(my_set)"
   ]
  },
  {
   "cell_type": "code",
   "execution_count": 158,
   "metadata": {},
   "outputs": [
    {
     "data": {
      "text/plain": [
       "{0, 1, 2, 3, 4, 5, 6, 7, 8, 9}"
      ]
     },
     "execution_count": 158,
     "metadata": {},
     "output_type": "execute_result"
    }
   ],
   "source": [
    "my_set"
   ]
  },
  {
   "cell_type": "code",
   "execution_count": 159,
   "metadata": {},
   "outputs": [],
   "source": [
    "my_set.add(0)"
   ]
  },
  {
   "cell_type": "code",
   "execution_count": 160,
   "metadata": {},
   "outputs": [
    {
     "data": {
      "text/plain": [
       "{0, 1, 2, 3, 4, 5, 6, 7, 8, 9}"
      ]
     },
     "execution_count": 160,
     "metadata": {},
     "output_type": "execute_result"
    }
   ],
   "source": [
    "my_set"
   ]
  },
  {
   "cell_type": "code",
   "execution_count": 168,
   "metadata": {},
   "outputs": [
    {
     "data": {
      "text/plain": [
       "6"
      ]
     },
     "execution_count": 168,
     "metadata": {},
     "output_type": "execute_result"
    }
   ],
   "source": [
    "# arbitrary order\n",
    "my_set.pop()"
   ]
  },
  {
   "cell_type": "code",
   "execution_count": 171,
   "metadata": {},
   "outputs": [
    {
     "name": "stdout",
     "output_type": "stream",
     "text": [
      "{0, 1, 2, 3, 4, 5, 6, 7, 8, 9}\n"
     ]
    }
   ],
   "source": [
    "print(my_set)"
   ]
  },
  {
   "cell_type": "code",
   "execution_count": 172,
   "metadata": {},
   "outputs": [
    {
     "data": {
      "text/plain": [
       "True"
      ]
     },
     "execution_count": 172,
     "metadata": {},
     "output_type": "execute_result"
    }
   ],
   "source": [
    "print(my_set == set(list(range(10))))"
   ]
  },
  {
   "cell_type": "code",
   "execution_count": 177,
   "metadata": {},
   "outputs": [],
   "source": [
    "set_of_characters = set('imastring')"
   ]
  },
  {
   "cell_type": "code",
   "execution_count": 178,
   "metadata": {},
   "outputs": [],
   "source": [
    "another_set_of_characters = set(character for character in 'imastring')"
   ]
  },
  {
   "cell_type": "code",
   "execution_count": 179,
   "metadata": {},
   "outputs": [
    {
     "data": {
      "text/plain": [
       "True"
      ]
     },
     "execution_count": 179,
     "metadata": {},
     "output_type": "execute_result"
    }
   ],
   "source": [
    "set_of_characters == another_set_of_characters"
   ]
  },
  {
   "cell_type": "code",
   "execution_count": 181,
   "metadata": {},
   "outputs": [
    {
     "name": "stdout",
     "output_type": "stream",
     "text": [
      "True\n",
      "True\n"
     ]
    }
   ],
   "source": [
    "print(set_of_characters.issubset(another_set_of_characters))\n",
    "print(set_of_characters.issuperset(another_set_of_characters))"
   ]
  },
  {
   "cell_type": "code",
   "execution_count": 186,
   "metadata": {},
   "outputs": [
    {
     "name": "stdout",
     "output_type": "stream",
     "text": [
      "True\n",
      "False\n"
     ]
    }
   ],
   "source": [
    "print(set_of_characters.issubset('imastringaoksdoqkwe'))\n",
    "print(set_of_characters.issuperset('imq'))"
   ]
  },
  {
   "attachments": {},
   "cell_type": "markdown",
   "metadata": {},
   "source": [
    "https://rickscraftofaudit.files.wordpress.com/2014/10/sets.png"
   ]
  },
  {
   "cell_type": "code",
   "execution_count": 188,
   "metadata": {},
   "outputs": [
    {
     "data": {
      "text/plain": [
       "{'a', 'g', 'i', 'm', 'n', 'r', 's', 't'}"
      ]
     },
     "execution_count": 188,
     "metadata": {},
     "output_type": "execute_result"
    }
   ],
   "source": [
    "set_of_characters"
   ]
  },
  {
   "cell_type": "code",
   "execution_count": 190,
   "metadata": {},
   "outputs": [],
   "source": [
    "another_set_of_characters = {'a', 'b', 'c'}"
   ]
  },
  {
   "cell_type": "code",
   "execution_count": 194,
   "metadata": {},
   "outputs": [
    {
     "name": "stdout",
     "output_type": "stream",
     "text": [
      "{'n', 'm', 'r', 's', 'b', 't', 'c', 'g', 'i', 'a'}\n",
      "{'a'}\n",
      "{'n', 'm', 'r', 's', 't', 'g', 'i'}\n",
      "{'n', 'm', 'r', 's', 'b', 't', 'c', 'g', 'i'}\n"
     ]
    }
   ],
   "source": [
    "print(set_of_characters.union(another_set_of_characters))\n",
    "print(set_of_characters.intersection(another_set_of_characters))\n",
    "print(set_of_characters.difference(another_set_of_characters))\n",
    "print(set_of_characters.symmetric_difference(another_set_of_characters))"
   ]
  },
  {
   "cell_type": "code",
   "execution_count": 199,
   "metadata": {},
   "outputs": [
    {
     "name": "stdout",
     "output_type": "stream",
     "text": [
      "{'n', 'm', 'r', 's', 'b', 't', 'c', 'g', 'i', 'a'}\n",
      "{'a'}\n",
      "{'n', 'm', 'r', 's', 't', 'g', 'i'}\n",
      "{'b', 'c'}\n",
      "{'n', 'm', 'r', 's', 'b', 't', 'c', 'g', 'i'}\n"
     ]
    }
   ],
   "source": [
    "# alternative syntax(slightly different functionality)\n",
    "print(set_of_characters | another_set_of_characters)  # union\n",
    "print(set_of_characters.intersection(another_set_of_characters))  # intersection\n",
    "print(set_of_characters - another_set_of_characters)  # difference\n",
    "print(another_set_of_characters - set_of_characters)  # difference the other way around\n",
    "print(another_set_of_characters ^ set_of_characters)  # symmetric difference"
   ]
  },
  {
   "cell_type": "code",
   "execution_count": 206,
   "metadata": {},
   "outputs": [
    {
     "name": "stdout",
     "output_type": "stream",
     "text": [
      "{'n', 'm', 'r', 's', 'b', 't', 'c', 'g', 'i', 'a'}\n",
      "{'n', 'm', 'r', 's', 'b', 't', 'c', 'g', 'i', 'a'}\n"
     ]
    }
   ],
   "source": [
    "new_set = set_of_characters.copy()\n",
    "new_set |= another_set_of_characters\n",
    "print(new_set)\n",
    "print(set_of_characters)"
   ]
  },
  {
   "cell_type": "code",
   "execution_count": 207,
   "metadata": {},
   "outputs": [
    {
     "name": "stdout",
     "output_type": "stream",
     "text": [
      "4734714824\n",
      "4731901544\n"
     ]
    }
   ],
   "source": [
    "print(id(new_set))\n",
    "print(id(set_of_characters))"
   ]
  },
  {
   "cell_type": "code",
   "execution_count": 208,
   "metadata": {},
   "outputs": [],
   "source": [
    "new_set.remove('n')"
   ]
  },
  {
   "cell_type": "code",
   "execution_count": 209,
   "metadata": {},
   "outputs": [
    {
     "name": "stdout",
     "output_type": "stream",
     "text": [
      "{'m', 'r', 's', 'b', 't', 'c', 'g', 'i', 'a'}\n"
     ]
    }
   ],
   "source": [
    "print(new_set)"
   ]
  },
  {
   "cell_type": "code",
   "execution_count": 211,
   "metadata": {},
   "outputs": [],
   "source": [
    "new_set.discard('n')"
   ]
  },
  {
   "cell_type": "code",
   "execution_count": 212,
   "metadata": {},
   "outputs": [],
   "source": [
    "my_frozen_set = frozenset(new_set)"
   ]
  },
  {
   "cell_type": "code",
   "execution_count": 218,
   "metadata": {
    "scrolled": true
   },
   "outputs": [
    {
     "data": {
      "text/plain": [
       "frozenset({'a', 'b', 'c', 'g', 'i', 'm', 'r', 's', 't'})"
      ]
     },
     "execution_count": 218,
     "metadata": {},
     "output_type": "execute_result"
    }
   ],
   "source": [
    "my_frozen_set"
   ]
  },
  {
   "cell_type": "markdown",
   "metadata": {},
   "source": [
    "## Dictionaries"
   ]
  },
  {
   "cell_type": "code",
   "execution_count": 220,
   "metadata": {},
   "outputs": [],
   "source": [
    "my_dict = {\n",
    "    1: 'Monday',\n",
    "    2: 'Tuesday'\n",
    "}"
   ]
  },
  {
   "cell_type": "code",
   "execution_count": 222,
   "metadata": {},
   "outputs": [
    {
     "data": {
      "text/plain": [
       "'Tuesday'"
      ]
     },
     "execution_count": 222,
     "metadata": {},
     "output_type": "execute_result"
    }
   ],
   "source": [
    "my_dict[2]"
   ]
  },
  {
   "cell_type": "code",
   "execution_count": 223,
   "metadata": {},
   "outputs": [
    {
     "name": "stdout",
     "output_type": "stream",
     "text": [
      "dict_keys([1, 2])\n"
     ]
    }
   ],
   "source": [
    "print(my_dict.keys())  # convert to a list if needed"
   ]
  },
  {
   "cell_type": "code",
   "execution_count": 225,
   "metadata": {},
   "outputs": [
    {
     "name": "stdout",
     "output_type": "stream",
     "text": [
      "dict_values(['Monday', 'Tuesday'])\n"
     ]
    }
   ],
   "source": [
    "print(my_dict.values())  # convert to a list if needed"
   ]
  },
  {
   "cell_type": "code",
   "execution_count": 230,
   "metadata": {},
   "outputs": [
    {
     "name": "stdout",
     "output_type": "stream",
     "text": [
      "1\n",
      "2\n"
     ]
    }
   ],
   "source": [
    "# iterates over keys by default\n",
    "for key in my_dict:\n",
    "    print(key)"
   ]
  },
  {
   "cell_type": "code",
   "execution_count": 231,
   "metadata": {},
   "outputs": [
    {
     "name": "stdout",
     "output_type": "stream",
     "text": [
      "Monday\n",
      "Tuesday\n"
     ]
    }
   ],
   "source": [
    "# iterates over values\n",
    "for value in my_dict.values():\n",
    "    print(value)"
   ]
  },
  {
   "cell_type": "code",
   "execution_count": 234,
   "metadata": {},
   "outputs": [
    {
     "name": "stdout",
     "output_type": "stream",
     "text": [
      "1 Monday\n",
      "2 Tuesday\n"
     ]
    }
   ],
   "source": [
    "# iterates over keys and values(destructured)\n",
    "for key, value in my_dict.items():\n",
    "    print(key, value)"
   ]
  },
  {
   "cell_type": "code",
   "execution_count": 235,
   "metadata": {},
   "outputs": [],
   "source": [
    "keys = my_dict.keys()"
   ]
  },
  {
   "cell_type": "code",
   "execution_count": 243,
   "metadata": {},
   "outputs": [
    {
     "data": {
      "text/plain": [
       "'12'"
      ]
     },
     "execution_count": 243,
     "metadata": {},
     "output_type": "execute_result"
    }
   ],
   "source": [
    "''.join(str(s) for s in keys)"
   ]
  },
  {
   "cell_type": "code",
   "execution_count": 244,
   "metadata": {},
   "outputs": [],
   "source": [
    "my_dict[1] = 'Sunday'"
   ]
  },
  {
   "cell_type": "code",
   "execution_count": 246,
   "metadata": {},
   "outputs": [],
   "source": [
    "my_dict[3] = 'Wednesday'"
   ]
  },
  {
   "cell_type": "code",
   "execution_count": 254,
   "metadata": {},
   "outputs": [
    {
     "name": "stdout",
     "output_type": "stream",
     "text": [
      "Sunday\n"
     ]
    }
   ],
   "source": [
    "# safe access with default value\n",
    "print(my_dict.get(1, 'not found'))"
   ]
  },
  {
   "cell_type": "code",
   "execution_count": 259,
   "metadata": {},
   "outputs": [
    {
     "name": "stdout",
     "output_type": "stream",
     "text": [
      "not found\n"
     ]
    }
   ],
   "source": [
    "# if element is not present\n",
    "# gives a keyerror unless there is a second argument with the default\n",
    "value = my_dict.pop(1, 'not found')\n",
    "print(value)"
   ]
  },
  {
   "cell_type": "code",
   "execution_count": 256,
   "metadata": {},
   "outputs": [
    {
     "name": "stdout",
     "output_type": "stream",
     "text": [
      "{2: 'Tuesday', 3: 'Wednesday'}\n"
     ]
    }
   ],
   "source": [
    "print(my_dict)"
   ]
  },
  {
   "cell_type": "code",
   "execution_count": null,
   "metadata": {},
   "outputs": [],
   "source": []
  }
 ],
 "metadata": {
  "kernelspec": {
   "display_name": "Python 3",
   "language": "python",
   "name": "python3"
  },
  "language_info": {
   "codemirror_mode": {
    "name": "ipython",
    "version": 3
   },
   "file_extension": ".py",
   "mimetype": "text/x-python",
   "name": "python",
   "nbconvert_exporter": "python",
   "pygments_lexer": "ipython3",
   "version": "3.7.2"
  }
 },
 "nbformat": 4,
 "nbformat_minor": 2
}
