{
 "cells": [
  {
   "cell_type": "markdown",
   "metadata": {},
   "source": [
    "# Function exercises"
   ]
  },
  {
   "cell_type": "markdown",
   "metadata": {},
   "source": [
    "### Coding Bat Warmup 1"
   ]
  },
  {
   "cell_type": "code",
   "execution_count": 6,
   "metadata": {},
   "outputs": [],
   "source": [
    "def sleep_in(weekday, vacation):\n",
    "    \"\"\"\n",
    "    takes boolean weekday and boolean vacation\n",
    "    returns True if its not a weekday or we're on vacation\n",
    "    otherwise False\n",
    "    \"\"\"\n",
    "    return not weekday or vacation"
   ]
  },
  {
   "cell_type": "code",
   "execution_count": 7,
   "metadata": {},
   "outputs": [
    {
     "name": "stdout",
     "output_type": "stream",
     "text": [
      "True\n",
      "False\n",
      "True\n"
     ]
    }
   ],
   "source": [
    "print(sleep_in(False, False))  # True\n",
    "print(sleep_in(True, False))  # False\n",
    "print(sleep_in(False, True))  # True"
   ]
  },
  {
   "cell_type": "code",
   "execution_count": 12,
   "metadata": {},
   "outputs": [],
   "source": [
    "def monkey_trouble(a_smile, b_smile):\n",
    "    \"\"\"\n",
    "    We have two monkeys, a and b, and the parameters a_smile and b_smile indicate if each is smiling.\n",
    "    We are in trouble if they are both smiling or if neither of them is smiling. \n",
    "    Return True if we are in trouble\n",
    "    \"\"\"\n",
    "    return (a_smile and b_smile) or not a_smile and not b_smile"
   ]
  },
  {
   "cell_type": "code",
   "execution_count": 13,
   "metadata": {},
   "outputs": [
    {
     "name": "stdout",
     "output_type": "stream",
     "text": [
      "True\n",
      "True\n",
      "False\n"
     ]
    }
   ],
   "source": [
    "print(monkey_trouble(True, True))  # True\n",
    "print(monkey_trouble(False, False))  # True\n",
    "print(monkey_trouble(True, False))  # False"
   ]
  },
  {
   "cell_type": "code",
   "execution_count": 14,
   "metadata": {},
   "outputs": [],
   "source": [
    "def diff21(n):\n",
    "    \"\"\"\n",
    "    Given an int n, return the absolute difference between n and 21,\n",
    "    except return double the absolute difference if n is over 21.\n",
    "    \"\"\"\n",
    "    difference = abs(n-21)\n",
    "    return 2 * difference if n > 21 else difference"
   ]
  },
  {
   "cell_type": "code",
   "execution_count": 15,
   "metadata": {},
   "outputs": [
    {
     "name": "stdout",
     "output_type": "stream",
     "text": [
      "2\n",
      "11\n",
      "0\n"
     ]
    }
   ],
   "source": [
    "print(diff21(19))  # 2\n",
    "print(diff21(10))  # 11\n",
    "print(diff21(21))  # 0"
   ]
  },
  {
   "cell_type": "code",
   "execution_count": 18,
   "metadata": {},
   "outputs": [
    {
     "name": "stdout",
     "output_type": "stream",
     "text": [
      "N is greater than five\n"
     ]
    }
   ],
   "source": [
    "n = 10\n",
    "result = 'N is greater than five' if n > 5 else 'N is not greater than five'\n",
    "# if n > 5:\n",
    "#     result = 'N is greater than five'\n",
    "# else:\n",
    "#     result = 'N is not greater than five'\n",
    "print(result)"
   ]
  },
  {
   "cell_type": "code",
   "execution_count": 32,
   "metadata": {},
   "outputs": [],
   "source": [
    "def near_hundred(n):\n",
    "    \"\"\"\n",
    "    Given an int n, return True if it is within 10 of 100 or 200.\n",
    "    Note: abs(num) computes the absolute value of a number.\n",
    "    \"\"\"\n",
    "    return abs(100 - n) <= 10 or abs(200 - n) <= 10"
   ]
  },
  {
   "cell_type": "code",
   "execution_count": 28,
   "metadata": {},
   "outputs": [
    {
     "name": "stdout",
     "output_type": "stream",
     "text": [
      "True\n",
      "True\n",
      "False\n"
     ]
    }
   ],
   "source": [
    "print(near_hundred(93))  # True\n",
    "print(near_hundred(90))  # True\n",
    "print(near_hundred(89))  # False"
   ]
  },
  {
   "cell_type": "code",
   "execution_count": 97,
   "metadata": {},
   "outputs": [],
   "source": [
    "def pos_neg(a, b, negative):\n",
    "    \"\"\"\n",
    "    Given 2 int values, return True if one is negative and one is positive.\n",
    "    Except if the parameter \"negative\" is True, then return True only if both are negative.\n",
    "    \"\"\"\n",
    "    if negative:\n",
    "        return a < 0 and b < 0\n",
    "    return (a > 0 and b < 0) or (a < 0 and b > 0)"
   ]
  },
  {
   "cell_type": "code",
   "execution_count": 98,
   "metadata": {},
   "outputs": [
    {
     "name": "stdout",
     "output_type": "stream",
     "text": [
      "True True True False\n"
     ]
    }
   ],
   "source": [
    "print(pos_neg(1, -1, False),  # True\n",
    "pos_neg(-1, 1, False),  # True\n",
    "pos_neg(-4, -5, True),  # True\n",
    "pos_neg(-4, 5, True)  #False\n",
    ")\n"
   ]
  },
  {
   "cell_type": "code",
   "execution_count": 41,
   "metadata": {},
   "outputs": [],
   "source": [
    "def sum_double(a, b):\n",
    "    return a + b if a != b else (a + b) * 2"
   ]
  },
  {
   "cell_type": "code",
   "execution_count": 42,
   "metadata": {},
   "outputs": [
    {
     "name": "stdout",
     "output_type": "stream",
     "text": [
      "3\n",
      "5\n",
      "8\n"
     ]
    }
   ],
   "source": [
    "print(sum_double(1, 2))  # 3\n",
    "print(sum_double(3, 2))  # 5\n",
    "print(sum_double(2, 2))  # 8"
   ]
  },
  {
   "cell_type": "code",
   "execution_count": 46,
   "metadata": {},
   "outputs": [],
   "source": [
    "def parrot_trouble(talking, hour):\n",
    "    \"\"\"\n",
    "    We have a loud talking parrot. \n",
    "    The \"hour\" parameter is the current hour time in the range 0..23.\n",
    "    We are in trouble if the parrot is talking and the hour is before 7 or after 20.\n",
    "    Return True if we are in trouble.\n",
    "    \"\"\"\n",
    "    return talking and not (7 <= hour <= 20)"
   ]
  },
  {
   "cell_type": "code",
   "execution_count": 47,
   "metadata": {},
   "outputs": [
    {
     "name": "stdout",
     "output_type": "stream",
     "text": [
      "True False False\n"
     ]
    }
   ],
   "source": [
    "print(parrot_trouble(True, 6),  # True\n",
    "parrot_trouble(True, 7),  # False\n",
    "parrot_trouble(False, 6))  # False"
   ]
  },
  {
   "cell_type": "code",
   "execution_count": 58,
   "metadata": {},
   "outputs": [],
   "source": [
    "def makes10(a, b):\n",
    "    \"\"\"\n",
    "    Given 2 ints, a and b, return True if one if them is 10 or if their sum is 10.\n",
    "    \"\"\"\n",
    "    return a == 10 or b == 10 or (a + b) == 10"
   ]
  },
  {
   "cell_type": "code",
   "execution_count": 59,
   "metadata": {},
   "outputs": [
    {
     "name": "stdout",
     "output_type": "stream",
     "text": [
      "True False True\n"
     ]
    }
   ],
   "source": [
    "print(makes10(9, 10),  # True\n",
    "makes10(9, 9), # False\n",
    "makes10(1, 9))  # True"
   ]
  },
  {
   "cell_type": "code",
   "execution_count": 60,
   "metadata": {},
   "outputs": [
    {
     "data": {
      "text/plain": [
       "False"
      ]
     },
     "execution_count": 60,
     "metadata": {},
     "output_type": "execute_result"
    }
   ],
   "source": [
    "10 is 5"
   ]
  },
  {
   "cell_type": "code",
   "execution_count": 55,
   "metadata": {},
   "outputs": [
    {
     "data": {
      "text/plain": [
       "True"
      ]
     },
     "execution_count": 55,
     "metadata": {},
     "output_type": "execute_result"
    }
   ],
   "source": [
    "10 is 10"
   ]
  },
  {
   "cell_type": "code",
   "execution_count": 62,
   "metadata": {},
   "outputs": [
    {
     "name": "stdout",
     "output_type": "stream",
     "text": [
      "False\n"
     ]
    }
   ],
   "source": [
    "b = 10\n",
    "print(b is None)"
   ]
  },
  {
   "cell_type": "code",
   "execution_count": 82,
   "metadata": {},
   "outputs": [],
   "source": [
    "def not_string(phrase):\n",
    "    \"\"\"\n",
    "    Given a string, return a new string where \"not \" has been added to the fro{nt.\n",
    "    However, if the string already begins with \"not\", return the string unchanged.\n",
    "    \"\"\"\n",
    "    return phrase if phrase.startswith('not') else 'not %s' % phrase"
   ]
  },
  {
   "cell_type": "code",
   "execution_count": 81,
   "metadata": {},
   "outputs": [
    {
     "name": "stdout",
     "output_type": "stream",
     "text": [
      "not candy not x not bad\n"
     ]
    }
   ],
   "source": [
    "print(\n",
    "    not_string('candy'),  # 'not candy'\n",
    "    not_string('x'),  # 'not x'\n",
    "not_string('not bad'))  # 'not bad'"
   ]
  },
  {
   "cell_type": "code",
   "execution_count": 76,
   "metadata": {},
   "outputs": [
    {
     "data": {
      "text/plain": [
       "'5'"
      ]
     },
     "execution_count": 76,
     "metadata": {},
     "output_type": "execute_result"
    }
   ],
   "source": [
    "str(5)"
   ]
  },
  {
   "cell_type": "code",
   "execution_count": 88,
   "metadata": {},
   "outputs": [],
   "source": [
    "def missing_char(phrase, n):\n",
    "    \"\"\"\n",
    "    Given a non-empty string and an int n,\n",
    "    return a new string where the char at index n has been removed.\n",
    "    The value of n will be a valid index of a char in the original string\n",
    "    (i.e. n will be in the range 0..len(str)-1 inclusive)    \n",
    "    \"\"\"\n",
    "    return phrase[:n] + phrase[n+1:]"
   ]
  },
  {
   "cell_type": "code",
   "execution_count": 89,
   "metadata": {},
   "outputs": [
    {
     "name": "stdout",
     "output_type": "stream",
     "text": [
      "ktten itten kittn\n"
     ]
    }
   ],
   "source": [
    "print(\n",
    "    missing_char('kitten', 1),  # 'ktten'\n",
    "    missing_char('kitten', 0),  #'itten'\n",
    "    missing_char('kitten', 4)  #'kittn'\n",
    ")"
   ]
  },
  {
   "cell_type": "code",
   "execution_count": 95,
   "metadata": {},
   "outputs": [],
   "source": [
    "def front_back(phrase):\n",
    "    \"\"\"\n",
    "    Given a string, return a new string where the first and last chars have been exchanged.\n",
    "    \"\"\"\n",
    "    return phrase[-1] + phrase[1:-1] + phrase[0] if len(phrase) > 1 else phrase"
   ]
  },
  {
   "cell_type": "code",
   "execution_count": 96,
   "metadata": {},
   "outputs": [
    {
     "name": "stdout",
     "output_type": "stream",
     "text": [
      "eodc a ba\n"
     ]
    }
   ],
   "source": [
    "print(\n",
    "    front_back('code'),  # 'eodc'\n",
    "    front_back('a'),  # 'a'\n",
    "    front_back('ab')  # 'ba'\n",
    ")"
   ]
  },
  {
   "cell_type": "code",
   "execution_count": 99,
   "metadata": {},
   "outputs": [],
   "source": [
    "def front3(phrase):\n",
    "    \"\"\"\n",
    "    Given a string, we'll say that the front is the first 3 chars of the string.\n",
    "    If the string length is less than 3, the front is whatever is there.\n",
    "    Return a new string which is 3 copies of the front.\n",
    "    \"\"\"\n",
    "    return phrase[:3] * 3\n"
   ]
  },
  {
   "cell_type": "code",
   "execution_count": 100,
   "metadata": {},
   "outputs": [
    {
     "name": "stdout",
     "output_type": "stream",
     "text": [
      "JavJavJav ChoChoCho abcabcabc\n"
     ]
    }
   ],
   "source": [
    "print(\n",
    "    front3('Java'),  # 'JavJavJav'\n",
    "    front3('Chocolate'),  # 'ChoChoCho'\n",
    "    front3('abc'),  # 'abcabcabc'\n",
    ")"
   ]
  },
  {
   "cell_type": "code",
   "execution_count": 106,
   "metadata": {},
   "outputs": [],
   "source": [
    "def cigar_party(cigars, is_weekend):\n",
    "    \"\"\"\n",
    "    When squirrels get together for a party, they like to have cigars.\n",
    "    A squirrel party is successful when the number of cigars is between 40 and 60, inclusive.\n",
    "    Unless it is the weekend, in which case there is no upper bound on the number of cigars.\n",
    "    Return True if the party with the given values is successful, or False otherwise.\n",
    "    \"\"\"\n",
    "    return cigars >= 40 if is_weekend else cigars in range(40, 61)"
   ]
  },
  {
   "cell_type": "code",
   "execution_count": 107,
   "metadata": {},
   "outputs": [
    {
     "name": "stdout",
     "output_type": "stream",
     "text": [
      "False True True\n"
     ]
    }
   ],
   "source": [
    "print(\n",
    "    cigar_party(30, False),  # False\n",
    "    cigar_party(50, False),  # True\n",
    "    cigar_party(70, True)  # True\n",
    ")"
   ]
  },
  {
   "cell_type": "code",
   "execution_count": 113,
   "metadata": {},
   "outputs": [],
   "source": [
    "def date_fashion(you, date):\n",
    "    \"\"\"\n",
    "    You and your date are trying to get a table at a restaurant.\n",
    "    The parameter \"you\" is the stylishness of your clothes, in the range 0..10,\n",
    "    and \"date\" is the stylishness of your date's clothes.\n",
    "    The result getting the table is encoded as an int value with 0=no, 1=maybe, 2=yes.\n",
    "    If either of you is very stylish, 8 or more, then the result is 2 (yes).\n",
    "    With the exception that if either of you has style of 2 or less, then the result is 0 (no).\n",
    "    Otherwise the result is 1 (maybe).\n",
    "    \"\"\"\n",
    "    if you <= 2 or date <= 2:\n",
    "        return 0\n",
    "    elif you >= 8 or date >= 8:\n",
    "        return 2\n",
    "    return 1"
   ]
  },
  {
   "cell_type": "code",
   "execution_count": 114,
   "metadata": {},
   "outputs": [
    {
     "name": "stdout",
     "output_type": "stream",
     "text": [
      "2 0 1\n"
     ]
    }
   ],
   "source": [
    "print(date_fashion(5, 10),  # 2\n",
    "date_fashion(5, 2),  # 0\n",
    "date_fashion(5, 5))  # 1"
   ]
  },
  {
   "cell_type": "code",
   "execution_count": 115,
   "metadata": {},
   "outputs": [],
   "source": [
    "def squirrel_play(temp, is_summer):\n",
    "    \"\"\"\n",
    "    The squirrels in Palo Alto spend most of the day playing.\n",
    "    In particular, they play if the temperature is between 60 and 90 (inclusive).\n",
    "    Unless it is summer, then the upper limit is 100 instead of 90.\n",
    "    Given an int temperature and a boolean is_summer,\n",
    "    return True if the squirrels play and False otherwise.\n",
    "    \"\"\"\n",
    "    upper_limit = 100 if is_summer else 90\n",
    "    return temp in range(60, upper_limit + 1)"
   ]
  },
  {
   "cell_type": "code",
   "execution_count": 116,
   "metadata": {},
   "outputs": [
    {
     "name": "stdout",
     "output_type": "stream",
     "text": [
      "True False True\n"
     ]
    }
   ],
   "source": [
    "print(\n",
    "squirrel_play(70, False),  # True\n",
    "squirrel_play(95, False),  # False\n",
    "squirrel_play(95, True)  # True\n",
    ")"
   ]
  },
  {
   "cell_type": "code",
   "execution_count": 172,
   "metadata": {},
   "outputs": [
    {
     "name": "stdout",
     "output_type": "stream",
     "text": [
      "N is equal to 10!\n",
      "5\n"
     ]
    }
   ],
   "source": [
    "def test_elif():\n",
    "    n = 10\n",
    "    if n == 10:\n",
    "        print('N is equal to 10!')\n",
    "        return 5\n",
    "    if n > 5:\n",
    "        print('N is greater than 5!')\n",
    "\n",
    "print(test_elif()) "
   ]
  },
  {
   "cell_type": "code",
   "execution_count": 177,
   "metadata": {},
   "outputs": [
    {
     "name": "stdout",
     "output_type": "stream",
     "text": [
      "5\n"
     ]
    }
   ],
   "source": [
    "birthday_margin = 5 if True else 0\n",
    "print(birthday_margin)"
   ]
  },
  {
   "cell_type": "code",
   "execution_count": 184,
   "metadata": {},
   "outputs": [
    {
     "data": {
      "text/plain": [
       "7"
      ]
     },
     "execution_count": 184,
     "metadata": {},
     "output_type": "execute_result"
    }
   ],
   "source": []
  },
  {
   "cell_type": "code",
   "execution_count": 171,
   "metadata": {},
   "outputs": [],
   "source": [
    "def caught_speeding(speed, is_birthday):\n",
    "    \"\"\"\n",
    "    You are driving a little too fast, and a police officer stops you.\n",
    "    Write code to compute the result, encoded as an int value: 0=no ticket, 1=small ticket, 2=big ticket.\n",
    "    If speed is 60 or less, the result is 0.\n",
    "    If speed is between 61 and 80 inclusive, the result is 1.\n",
    "    If speed is 81 or more, the result is 2. Unless it is your birthday -- on that day,\n",
    "    your speed can be 5 higher in all cases.\n",
    "    \"\"\"\n",
    "    birthday_margin = 5 if is_birthday else 0\n",
    "    if speed <= 60 + birthday_margin:\n",
    "        return 0\n",
    "    elif speed in range(61, 81 + birthday_margin):\n",
    "        return 1\n",
    "    elif speed >= 81 + birthday_margin:\n",
    "        return 2\n",
    "    \n",
    "\n"
   ]
  },
  {
   "cell_type": "code",
   "execution_count": 121,
   "metadata": {},
   "outputs": [
    {
     "name": "stdout",
     "output_type": "stream",
     "text": [
      "0 1 0\n"
     ]
    }
   ],
   "source": [
    "print(caught_speeding(60, False),  # 0\n",
    "caught_speeding(65, False),  # 1\n",
    "caught_speeding(65, True))  # 0"
   ]
  },
  {
   "cell_type": "code",
   "execution_count": 128,
   "metadata": {},
   "outputs": [],
   "source": [
    "def sorta_sum(a, b):\n",
    "    \"\"\"\n",
    "    Given 2 ints, a and b, return their sum.\n",
    "    However, sums in the range 10..19 inclusive, are forbidden,\n",
    "    so in that case just return 20.\n",
    "    \"\"\"\n",
    "    result = a + b\n",
    "    return 20 if result in range(10, 20) else result"
   ]
  },
  {
   "cell_type": "code",
   "execution_count": 129,
   "metadata": {},
   "outputs": [
    {
     "name": "stdout",
     "output_type": "stream",
     "text": [
      "7 20 21\n"
     ]
    }
   ],
   "source": [
    "print(sorta_sum(3, 4),  # 7\n",
    "sorta_sum(9, 4),  # 20\n",
    "sorta_sum(10, 11))  # 21"
   ]
  },
  {
   "cell_type": "code",
   "execution_count": 135,
   "metadata": {},
   "outputs": [],
   "source": [
    "def alarm_clock(day, vacation):\n",
    "    \"\"\"\n",
    "    Given a day of the week encoded as 0=Sun, 1=Mon, 2=Tue, ...6=Sat,\n",
    "    and a boolean indicating if we are on vacation,\n",
    "    return a string of the form \"7:00\"\n",
    "    indicating when the alarm clock should ring.\n",
    "    Weekdays, the alarm should be \"7:00\" and on the weekend it should be \"10:00\".\n",
    "    Unless we are on vacation -- then on weekdays it should be \"10:00\"\n",
    "    and weekends it should be \"off\".\n",
    "    \"\"\"\n",
    "    weekday_alarm = '10:00' if vacation else '7:00'\n",
    "    weekend_alarm = 'off' if vacation else '10:00'\n",
    "    if day in range(1, 6):\n",
    "        return weekday_alarm\n",
    "    return weekend_alarm\n"
   ]
  },
  {
   "cell_type": "code",
   "execution_count": 136,
   "metadata": {},
   "outputs": [
    {
     "name": "stdout",
     "output_type": "stream",
     "text": [
      "7:00 7:00 10:00\n"
     ]
    }
   ],
   "source": [
    "print(alarm_clock(1, False),  # '7:00'\n",
    "alarm_clock(5, False),  # '7:00'\n",
    "alarm_clock(0, False))  # '10:00'"
   ]
  },
  {
   "cell_type": "code",
   "execution_count": 194,
   "metadata": {},
   "outputs": [],
   "source": [
    "def love6(a, b):\n",
    "    \"\"\"\n",
    "    The number 6 is a truly great number.\n",
    "    Given two int values, a and b, return True if either one is 6.\n",
    "    Or if their sum or difference is 6.\n",
    "    Note: the function abs(num) computes the absolute value of a number.    \n",
    "    \"\"\"\n",
    "#     return 6 in (a, b, a + b, abs(a - b))\n",
    "    return a == 6 or b == 6 or a + b == 6 or abs(a - b) == 6"
   ]
  },
  {
   "cell_type": "code",
   "execution_count": 195,
   "metadata": {},
   "outputs": [
    {
     "name": "stdout",
     "output_type": "stream",
     "text": [
      "True False True\n"
     ]
    }
   ],
   "source": [
    "print(love6(6, 4),  # True\n",
    "love6(4, 5),  # False\n",
    "love6(1, 5))  # True"
   ]
  },
  {
   "cell_type": "code",
   "execution_count": 196,
   "metadata": {},
   "outputs": [],
   "source": [
    "def in1to10(n, outside_mode):\n",
    "    \"\"\"\n",
    "    Given a number n, return True if n is in the range 1..10, inclusive.\n",
    "    Unless outside_mode is True,\n",
    "    in which case return True if the number is less or equal to 1,\n",
    "    or greater or equal to 10.\n",
    "    \"\"\"\n",
    "    if outside_mode:\n",
    "        return n <= 1 or n >= 10 \n",
    "    return n in range(1, 11)\n",
    "\n"
   ]
  },
  {
   "cell_type": "code",
   "execution_count": 197,
   "metadata": {},
   "outputs": [
    {
     "name": "stdout",
     "output_type": "stream",
     "text": [
      "True True False True\n"
     ]
    }
   ],
   "source": [
    "print(\n",
    "in1to10(10, True),  # True\n",
    "in1to10(5, False), # True\n",
    "in1to10(11, False), # False\n",
    "in1to10(11, True), # True\n",
    "     )"
   ]
  },
  {
   "cell_type": "code",
   "execution_count": 198,
   "metadata": {},
   "outputs": [],
   "source": [
    "def near_ten(num):\n",
    "    \"\"\"\n",
    "    Given a non-negative number \"num\", return True if num is within 2 of a multiple of 10.\n",
    "    Note: (a % b) is the remainder of dividing a by b, so (7 % 5) is 2.\n",
    "    \"\"\"\n",
    "    return num % 10 < 3 or num % 10 > 7\n"
   ]
  },
  {
   "cell_type": "code",
   "execution_count": 199,
   "metadata": {},
   "outputs": [
    {
     "name": "stdout",
     "output_type": "stream",
     "text": [
      "True False True\n"
     ]
    }
   ],
   "source": [
    "print(near_ten(12),  # True\n",
    "near_ten(17),  # False\n",
    "near_ten(19))  # True"
   ]
  },
  {
   "cell_type": "markdown",
   "metadata": {},
   "source": [
    "# Loops"
   ]
  },
  {
   "cell_type": "code",
   "execution_count": 202,
   "metadata": {},
   "outputs": [
    {
     "name": "stdout",
     "output_type": "stream",
     "text": [
      "0\n",
      "1\n",
      "2\n",
      "3\n",
      "4\n",
      "5\n",
      "6\n",
      "7\n",
      "8\n",
      "9\n"
     ]
    }
   ],
   "source": [
    "for value in range(0, 10):\n",
    "    print(value)"
   ]
  },
  {
   "cell_type": "code",
   "execution_count": 211,
   "metadata": {},
   "outputs": [
    {
     "name": "stdout",
     "output_type": "stream",
     "text": [
      "10\n",
      "8\n",
      "6\n",
      "4\n",
      "2\n",
      "0\n"
     ]
    }
   ],
   "source": [
    "for value in range(10, -1, -2):\n",
    "    print(value)"
   ]
  },
  {
   "cell_type": "code",
   "execution_count": null,
   "metadata": {
    "scrolled": true
   },
   "outputs": [],
   "source": [
    "for value in range(10):\n",
    "    for another_value in range(5):\n",
    "        print(value, another_value)"
   ]
  },
  {
   "cell_type": "code",
   "execution_count": 213,
   "metadata": {},
   "outputs": [
    {
     "name": "stdout",
     "output_type": "stream",
     "text": [
      "0\n",
      "1\n",
      "2\n",
      "3\n",
      "4\n",
      "5\n",
      "6\n",
      "7\n",
      "8\n",
      "9\n"
     ]
    }
   ],
   "source": [
    "counter = 0\n",
    "while counter < 10:\n",
    "    print(counter)\n",
    "    counter += 1"
   ]
  },
  {
   "cell_type": "code",
   "execution_count": 214,
   "metadata": {},
   "outputs": [
    {
     "name": "stdout",
     "output_type": "stream",
     "text": [
      "m\n",
      "y\n",
      " \n",
      "s\n",
      "t\n",
      "r\n",
      "i\n",
      "n\n",
      "g\n"
     ]
    }
   ],
   "source": [
    "for char in 'my string':\n",
    "    print(char)"
   ]
  },
  {
   "cell_type": "code",
   "execution_count": 217,
   "metadata": {},
   "outputs": [
    {
     "name": "stdout",
     "output_type": "stream",
     "text": [
      "index is 0\n",
      "m\n",
      "index is 1\n",
      "y\n",
      "index is 2\n",
      " \n",
      "index is 3\n",
      "s\n",
      "index is 4\n",
      "t\n",
      "index is 5\n",
      "r\n",
      "index is 6\n",
      "i\n",
      "index is 7\n",
      "n\n",
      "index is 8\n",
      "g\n"
     ]
    }
   ],
   "source": [
    "s = 'my string'\n",
    "for i in range(len(s)):\n",
    "    print('index is', i)\n",
    "    print(s[i])"
   ]
  },
  {
   "cell_type": "code",
   "execution_count": 218,
   "metadata": {},
   "outputs": [
    {
     "name": "stdout",
     "output_type": "stream",
     "text": [
      "0 m\n",
      "1 y\n",
      "2  \n",
      "3 s\n",
      "4 t\n",
      "5 r\n",
      "6 i\n",
      "7 n\n",
      "8 g\n"
     ]
    }
   ],
   "source": [
    "for i, char in enumerate('my string'):\n",
    "    print(i, char)"
   ]
  },
  {
   "cell_type": "code",
   "execution_count": 219,
   "metadata": {},
   "outputs": [
    {
     "name": "stdout",
     "output_type": "stream",
     "text": [
      "0\n",
      "1\n",
      "2\n",
      "3\n",
      "4\n",
      "5\n",
      "6\n"
     ]
    }
   ],
   "source": [
    "for i in range(10):\n",
    "    print(i)\n",
    "    if i > 5:\n",
    "        break"
   ]
  },
  {
   "cell_type": "code",
   "execution_count": 221,
   "metadata": {},
   "outputs": [
    {
     "name": "stdout",
     "output_type": "stream",
     "text": [
      "0 0\n",
      "0 1\n",
      "0 2\n",
      "0 3\n",
      "0 4\n",
      "0 5\n",
      "0 6\n"
     ]
    }
   ],
   "source": [
    "for value in range(2):\n",
    "    if value > 0:\n",
    "        break\n",
    "    for another_value in range(10):\n",
    "        print(value, another_value)\n",
    "        if another_value > 5:\n",
    "            break"
   ]
  },
  {
   "cell_type": "code",
   "execution_count": 223,
   "metadata": {},
   "outputs": [
    {
     "name": "stdout",
     "output_type": "stream",
     "text": [
      "0\n",
      "value is 1, continuing!\n",
      "2\n",
      "value is 3, continuing!\n",
      "4\n",
      "value is 5, continuing!\n",
      "6\n",
      "value is 7, continuing!\n",
      "8\n",
      "value is 9, continuing!\n"
     ]
    }
   ],
   "source": [
    "for value in range(10):\n",
    "    if value % 2 != 0:\n",
    "        print(f'value is {value}, continuing!')\n",
    "        continue\n",
    "    print(value)"
   ]
  },
  {
   "cell_type": "code",
   "execution_count": 224,
   "metadata": {},
   "outputs": [
    {
     "name": "stdout",
     "output_type": "stream",
     "text": [
      "y\n"
     ]
    }
   ],
   "source": [
    "for value in 'my string':\n",
    "    if value not in 'oeayu':\n",
    "        continue\n",
    "    print(value)"
   ]
  },
  {
   "cell_type": "markdown",
   "metadata": {},
   "source": [
    "## Collatz conjencture"
   ]
  },
  {
   "cell_type": "code",
   "execution_count": null,
   "metadata": {},
   "outputs": [],
   "source": [
    "def get_cycle_length(n):\n",
    "    \"\"\" \n",
    "    takes an integer 0 < n < 10000\n",
    "    returns the number of steps it\n",
    "    will take to get to 1\n",
    "    by performing n // 2 if n is even\n",
    "    and n * 3 + 1 if n is odd\n",
    "    int -> int\n",
    "    print(get_cycle_length(5)) -> 6\n",
    "    print(get_cycle_length(1)) -> 1\n",
    "    print(get_cycle_length(197)) -> 27\n",
    "    \"\"\"\n",
    "    # remove this pass statement and write the body of your function\n",
    "    pass"
   ]
  },
  {
   "cell_type": "code",
   "execution_count": null,
   "metadata": {},
   "outputs": [],
   "source": [
    "def get_cycle_length_range(start, end):\n",
    "    \"\"\" \n",
    "    takes 2 integers 0 < start, end < 10000\n",
    "    finds the number for which it takes\n",
    "    the maximum amount of steps to get to\n",
    "    1 and returns the length of that cycle\n",
    "\n",
    "    int, int -> int\n",
    "    print(get_cycle_length_range(5, 100)) -> 119\n",
    "    print(get_cycle_length_range(200, 100)) -> 125\n",
    "    print(get_cycle_length_range(1, 2)) -> 2\n",
    "    \"\"\"\n",
    "    # remove this pass statement and write the body of your function\n",
    "    pass"
   ]
  },
  {
   "cell_type": "markdown",
   "metadata": {},
   "source": [
    "## Caesar cipher"
   ]
  },
  {
   "cell_type": "code",
   "execution_count": 227,
   "metadata": {},
   "outputs": [],
   "source": [
    "# DO NOT MODIFY THESE 2 LINES\n",
    "ALPHABET = 'abcdefghijklmnopqrstuvwxyz'\n",
    "ALPHABET += ALPHABET.upper() + ' .,!?'\n",
    "\n",
    "\n",
    "def encrypt(msg, shift):\n",
    "    \"\"\"\n",
    "    Takes string msg and an integer shift\n",
    "    returns new string which is an encrypted version\n",
    "    of the message\n",
    "    str, int -> str\n",
    "    print(encrypt('John', 15)) -> 'YDwC'\n",
    "    print(encrypt(' ', 6)) -> 'b'\n",
    "    \"\"\"\n",
    "    # remove this pass statement and write the body of your function\n",
    "    pass\n",
    "\n",
    "\n",
    "def decrypt(encrypted_msg, shift):\n",
    "    \"\"\"\n",
    "    Takes string encrypted_msg and an integer shift\n",
    "    returns new string which is a decrypted version\n",
    "    of the message\n",
    "    str, int -> str\n",
    "    print(decrypt('eDUHM', 25)) -> Kevin\n",
    "    print(decrypt('j.GT', -10000)) -> Ivan\n",
    "    \"\"\"\n",
    "    # remove this pass statement and write the body of your function\n",
    "    pass"
   ]
  },
  {
   "cell_type": "code",
   "execution_count": 228,
   "metadata": {},
   "outputs": [
    {
     "name": "stdout",
     "output_type": "stream",
     "text": [
      "abcdefghijklmnopqrstuvwxyzABCDEFGHIJKLMNOPQRSTUVWXYZ .,!?\n"
     ]
    }
   ],
   "source": [
    "print(ALPHABET)"
   ]
  },
  {
   "cell_type": "markdown",
   "metadata": {},
   "source": [
    "## Xor encryption"
   ]
  },
  {
   "cell_type": "code",
   "execution_count": 247,
   "metadata": {},
   "outputs": [],
   "source": [
    "def xor_encrypt(text, key):\n",
    "    pass\n",
    "\n",
    "def xor_decrypt(secret_text, key):\n",
    "    pass"
   ]
  },
  {
   "cell_type": "code",
   "execution_count": 251,
   "metadata": {},
   "outputs": [
    {
     "data": {
      "text/plain": [
       "65"
      ]
     },
     "execution_count": 251,
     "metadata": {},
     "output_type": "execute_result"
    }
   ],
   "source": [
    "ord('A')"
   ]
  },
  {
   "cell_type": "code",
   "execution_count": 254,
   "metadata": {},
   "outputs": [
    {
     "data": {
      "text/plain": [
       "'b'"
      ]
     },
     "execution_count": 254,
     "metadata": {},
     "output_type": "execute_result"
    }
   ],
   "source": [
    "chr(98)"
   ]
  },
  {
   "cell_type": "code",
   "execution_count": 255,
   "metadata": {},
   "outputs": [
    {
     "data": {
      "text/plain": [
       "98"
      ]
     },
     "execution_count": 255,
     "metadata": {},
     "output_type": "execute_result"
    }
   ],
   "source": [
    "65 ^ 35"
   ]
  },
  {
   "cell_type": "code",
   "execution_count": 256,
   "metadata": {},
   "outputs": [
    {
     "data": {
      "text/plain": [
       "81"
      ]
     },
     "execution_count": 256,
     "metadata": {},
     "output_type": "execute_result"
    }
   ],
   "source": [
    "ord('0') ^ ord('a')"
   ]
  },
  {
   "cell_type": "code",
   "execution_count": 257,
   "metadata": {},
   "outputs": [
    {
     "data": {
      "text/plain": [
       "'Q'"
      ]
     },
     "execution_count": 257,
     "metadata": {},
     "output_type": "execute_result"
    }
   ],
   "source": [
    "chr(81)"
   ]
  },
  {
   "cell_type": "code",
   "execution_count": 258,
   "metadata": {},
   "outputs": [
    {
     "data": {
      "text/plain": [
       "97"
      ]
     },
     "execution_count": 258,
     "metadata": {},
     "output_type": "execute_result"
    }
   ],
   "source": [
    "ord('a')"
   ]
  },
  {
   "cell_type": "code",
   "execution_count": 259,
   "metadata": {},
   "outputs": [
    {
     "data": {
      "text/plain": [
       "48"
      ]
     },
     "execution_count": 259,
     "metadata": {},
     "output_type": "execute_result"
    }
   ],
   "source": [
    "81 ^ 97"
   ]
  },
  {
   "cell_type": "code",
   "execution_count": 260,
   "metadata": {},
   "outputs": [
    {
     "data": {
      "text/plain": [
       "'0'"
      ]
     },
     "execution_count": 260,
     "metadata": {},
     "output_type": "execute_result"
    }
   ],
   "source": [
    "chr(48)"
   ]
  },
  {
   "cell_type": "code",
   "execution_count": null,
   "metadata": {},
   "outputs": [],
   "source": [
    "TRIES = 10\n",
    "OFFER_NEXT_GAME = 'Would you like to have another try? (y/n)\\n'\n",
    "GAME_WON_PHRASE = 'Congratulations!'\n",
    "GAME_LOST_PHRASE = 'GAME OVER'\n",
    "LETTERS_LEFT = 'Letters left:'\n",
    "INPUT_PROMPT = 'Guess a letter:\\n'\n",
    "INVALID_INPUT = 'Invalid input, try again'\n",
    "REMAINING_TRIES = 'Tries left:'\n",
    "\n",
    "\n",
    "# DO NOT MODIFY THE initialize function\n",
    "def initialize(word_list):\n",
    "    \"\"\"\n",
    "    Takes a list of words as a parameter.\n",
    "    Starting with the word in the word_list,\n",
    "    starts a new game using the word.\n",
    "    If the user wants to play again, starts the next\n",
    "    game with the next word.\n",
    "    Runs until user doesn't want to play or\n",
    "    until it runs out of new words.\n",
    "    \"\"\"\n",
    "    i = 0\n",
    "    while i < len(word_list) and start_new_game(word_list[i], TRIES):\n",
    "        i += 1\n",
    "\n",
    "\n",
    "def obfuscate(word, letters_guessed):\n",
    "    \"\"\"\n",
    "    Takes the current word being guessed and\n",
    "    a string containing letters that user has\n",
    "    tried to guess during current playthrough.\n",
    "    Returns a string, that only shows letters\n",
    "    that the user has guessed correctly. Return\n",
    "    the guessed letter in uppercase. The letters,\n",
    "    that user still has to guess are replaced with\n",
    "    underscores.\n",
    "    Example:\n",
    "        input: 'claire','abcd'\n",
    "        ouput: 'C_A___'\n",
    "    Example:\n",
    "        input: 'Amanda','etai'\n",
    "        output: 'A_A__A'\n",
    "    Example:\n",
    "        input: 'Obi-Wan KENOBI','oteai'\n",
    "        output: 'O_I-_A_ _E_O_I'\n",
    "    \"\"\"\n",
    "    # replace the pass statement with your code\n",
    "    pass\n",
    "\n",
    "\n",
    "def start_new_game(word, max_tries):\n",
    "    \"\"\"\n",
    "    # Arguments\n",
    "    Takes a word (string) that the user has to guess,\n",
    "    and max_tries (int) - the number of tries user has\n",
    "    before he loses the game.\n",
    "    # Description\n",
    "    Before prompting the user always show the letters he still hasn't tried to guess.\n",
    "    This function should prompt user for a letter, and\n",
    "    check, whether the letter guessed is in the word.\n",
    "    If user guessed correctly, reveal the letter to him.\n",
    "    If user guessed wrong, decrease the number of tries and show the amount of tries remaining.\n",
    "    Keep asking user for more letters, until he wins or loses.\n",
    "    When the game ends, ask user to choose, whether they want\n",
    "    to play the game again.\n",
    "    If the user types 'n', return False.\n",
    "    If the user types 'y', return True.\n",
    "    User will only input 'n','N','y' or 'Y', so no need to handle other cases\n",
    "    # Return\n",
    "    Returns a boolean, stating whether user\n",
    "    wants to have another game.\n",
    "    Example:\n",
    "        input: 'Obi-Wan Kenobi',\n",
    "        execution: user wins, wants to play again,\n",
    "                    types 'y' when prompted\n",
    "        output: True\n",
    "    Example:\n",
    "        input: 'GANDALF',\n",
    "        execution: user wins, doesn't want to play again,\n",
    "                    types 'n' when prompted\n",
    "        output: False\n",
    "    \"\"\"\n",
    "    # replace the pass statement with your code\n",
    "    pass\n",
    "\n",
    "\n",
    "initialize(['Obi-Wan Kenobi', 'Alladin'])"
   ]
  },
  {
   "cell_type": "code",
   "execution_count": null,
   "metadata": {},
   "outputs": [],
   "source": []
  },
  {
   "cell_type": "code",
   "execution_count": 261,
   "metadata": {},
   "outputs": [
    {
     "data": {
      "text/plain": [
       "'0b1011010'"
      ]
     },
     "execution_count": 261,
     "metadata": {},
     "output_type": "execute_result"
    }
   ],
   "source": [
    "bin(90)"
   ]
  },
  {
   "cell_type": "code",
   "execution_count": 262,
   "metadata": {},
   "outputs": [
    {
     "data": {
      "text/plain": [
       "'0b1010000'"
      ]
     },
     "execution_count": 262,
     "metadata": {},
     "output_type": "execute_result"
    }
   ],
   "source": [
    "bin(80)"
   ]
  },
  {
   "cell_type": "code",
   "execution_count": 263,
   "metadata": {},
   "outputs": [
    {
     "data": {
      "text/plain": [
       "'0b1010'"
      ]
     },
     "execution_count": 263,
     "metadata": {},
     "output_type": "execute_result"
    }
   ],
   "source": [
    "bin(80 ^ 90)"
   ]
  },
  {
   "cell_type": "code",
   "execution_count": 264,
   "metadata": {},
   "outputs": [],
   "source": [
    "# 1 xor 1 = 0\n",
    "# 0 xor 1 = 1\n",
    "# 1 xor 0 = 1\n",
    "# 0 xor 0 = 0"
   ]
  },
  {
   "cell_type": "code",
   "execution_count": null,
   "metadata": {},
   "outputs": [],
   "source": []
  }
 ],
 "metadata": {
  "kernelspec": {
   "display_name": "Python 3",
   "language": "python",
   "name": "python3"
  },
  "language_info": {
   "codemirror_mode": {
    "name": "ipython",
    "version": 3
   },
   "file_extension": ".py",
   "mimetype": "text/x-python",
   "name": "python",
   "nbconvert_exporter": "python",
   "pygments_lexer": "ipython3",
   "version": "3.7.2"
  }
 },
 "nbformat": 4,
 "nbformat_minor": 2
}
