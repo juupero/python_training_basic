{
 "cells": [
  {
   "cell_type": "markdown",
   "metadata": {},
   "source": [
    "Homework check and discussions\n",
    "Files\n",
    "https://adventofcode.com/2018/day/1\n",
    "https://adventofcode.com/2018/day/2\n",
    "break\n",
    "\n",
    "Mutable vs immutable objects\n",
    "Lists and tuples\n",
    "CodingBat exercises\n",
    "break\n",
    "\n",
    "gambler + monty hall\n",
    "https://plot.ly/python/getting-started/\n",
    "https://www.math.ucsd.edu/~crypto/Monty/monty.html\n",
    "Sets and dictionaries, collections library(optional)"
   ]
  },
  {
   "cell_type": "code",
   "execution_count": 1,
   "metadata": {},
   "outputs": [],
   "source": [
    "import plotly.plotly as py\n",
    "import plotly.graph_objs as go\n",
    "import random"
   ]
  },
  {
   "cell_type": "code",
   "execution_count": 2,
   "metadata": {},
   "outputs": [],
   "source": [
    "# labels = ['Stick', 'Swap']\n",
    "\n",
    "# trace = go.Pie(labels=labels, values=[5, 10])\n",
    "# py.iplot([trace], filename='Montly Hall')"
   ]
  },
  {
   "cell_type": "code",
   "execution_count": 3,
   "metadata": {},
   "outputs": [],
   "source": [
    "def get_cycle_length(n):\n",
    "    \"\"\" \n",
    "    takes an integer 0 < n < 10000\n",
    "    returns the number of steps it\n",
    "    will take to get to 1\n",
    "    by performing n // 2 if n is even\n",
    "    and n * 3 + 1 if n is odd\n",
    "    int -> int\n",
    "    print(get_cycle_length(5)) -> 6\n",
    "    print(get_cycle_length(1)) -> 1\n",
    "    print(get_cycle_length(197)) -> 27\n",
    "    \"\"\"\n",
    "    steps = 1\n",
    "    while n != 1:\n",
    "        if n % 2 == 0:\n",
    "            n /= 2\n",
    "        else:\n",
    "            n = n * 3 + 1\n",
    "        steps += 1\n",
    "    return steps"
   ]
  },
  {
   "cell_type": "code",
   "execution_count": 4,
   "metadata": {},
   "outputs": [
    {
     "name": "stdout",
     "output_type": "stream",
     "text": [
      "92\n"
     ]
    }
   ],
   "source": [
    "print(get_cycle_length(9999))"
   ]
  },
  {
   "cell_type": "code",
   "execution_count": 5,
   "metadata": {},
   "outputs": [],
   "source": [
    "def get_cycle_length_range(start, end):\n",
    "    \"\"\" \n",
    "    takes 2 integers 0 < start, end < 10000\n",
    "    finds the number for which it takes\n",
    "    the maximum amount of steps to get to\n",
    "    1 and returns the length of that cycle\n",
    "\n",
    "    int, int -> int\n",
    "    print(get_cycle_length_range(5, 100)) -> 119\n",
    "    print(get_cycle_length_range(200, 100)) -> 125\n",
    "    print(get_cycle_length_range(1, 2)) -> 2\n",
    "    \"\"\"\n",
    "    if start > end:\n",
    "        start, end = end, start\n",
    "    current_max = 0\n",
    "    for n in range(start, end+1):\n",
    "        result = get_cycle_length(n)\n",
    "        if result > current_max:\n",
    "            current_max = result\n",
    "    return current_max\n",
    "    return max(get_cycle_length(n) for n in range(start, end+1))"
   ]
  },
  {
   "cell_type": "code",
   "execution_count": 6,
   "metadata": {},
   "outputs": [
    {
     "name": "stdout",
     "output_type": "stream",
     "text": [
      "125\n"
     ]
    }
   ],
   "source": [
    "print(get_cycle_length_range(200, 100))"
   ]
  },
  {
   "cell_type": "code",
   "execution_count": 7,
   "metadata": {},
   "outputs": [],
   "source": [
    "# DO NOT MODIFY THESE 2 LINES\n",
    "ALPHABET = 'abcdefghijklmnopqrstuvwxyz'\n",
    "ALPHABET += ALPHABET.upper() + ' .,!?'\n",
    "\n",
    "\n",
    "def encrypt(msg, shift):\n",
    "    \"\"\"\n",
    "    Takes string msg and an integer shift\n",
    "    returns new string which is an encrypted version\n",
    "    of the message\n",
    "    str, int -> str\n",
    "    print(encrypt('John', 15)) -> 'YDwC'\n",
    "    print(encrypt(' ', 6)) -> 'b'\n",
    "    \"\"\"\n",
    "    encrypted_message = ''\n",
    "    for letter in msg:\n",
    "        index = (ALPHABET.index(letter) + shift) % len(ALPHABET)\n",
    "        encrypted_message += ALPHABET[index]\n",
    "    return encrypted_message\n",
    "#     return ''.join(\n",
    "#         ALPHABET[(ALPHABET.index(letter) + shift) % len(ALPHABET)]\n",
    "#         for letter in msg\n",
    "#     )\n",
    "\n",
    "\n",
    "def decrypt(encrypted_msg, shift):\n",
    "    \"\"\"\n",
    "    Takes string encrypted_msg and an integer shift\n",
    "    returns new string which is a decrypted version\n",
    "    of the message\n",
    "    str, int -> str\n",
    "    print(decrypt('eDUHM', 25)) -> Kevin\n",
    "    print(decrypt('j.GT', -10000)) -> Ivan\n",
    "    \"\"\"\n",
    "    # remove this pass statement and write the body of your function\n",
    "    return encrypt(encrypted_msg, -shift)"
   ]
  },
  {
   "cell_type": "code",
   "execution_count": 8,
   "metadata": {},
   "outputs": [
    {
     "name": "stdout",
     "output_type": "stream",
     "text": [
      "dECulEJxuHlCuIIqwu\n"
     ]
    }
   ],
   "source": [
    "print(encrypt('Some other message', 16))"
   ]
  },
  {
   "cell_type": "code",
   "execution_count": 9,
   "metadata": {},
   "outputs": [
    {
     "name": "stdout",
     "output_type": "stream",
     "text": [
      "Tpnf.puifs.nfttbhf\n"
     ]
    }
   ],
   "source": [
    "print(decrypt('dECulEJxuHlCuIIqwu', 15))"
   ]
  },
  {
   "cell_type": "code",
   "execution_count": 10,
   "metadata": {},
   "outputs": [],
   "source": [
    "def xor_encrypt(text, key):\n",
    "    encrypted_message = ''\n",
    "    for i, char in enumerate(text):\n",
    "        xored_number = ord(char) ^ ord(key[i % len(key)])\n",
    "        encrypted_message += chr(xored_number)\n",
    "    return encrypted_message\n",
    "#     return ''.join(\n",
    "#         chr(ord(char) ^ ord(key[i % len(key)]))\n",
    "#         for i, char in enumerate(message)\n",
    "#     )\n",
    "\n",
    "def xor_decrypt(secret_text, key):\n",
    "    return xor_encrypt(secret_text, key)"
   ]
  },
  {
   "cell_type": "code",
   "execution_count": 11,
   "metadata": {},
   "outputs": [
    {
     "name": "stdout",
     "output_type": "stream",
     "text": [
      "QBVVU\n"
     ]
    }
   ],
   "source": [
    "print(xor_encrypt('01234', 'asde'))"
   ]
  },
  {
   "cell_type": "code",
   "execution_count": 12,
   "metadata": {},
   "outputs": [
    {
     "name": "stdout",
     "output_type": "stream",
     "text": [
      "01234\n"
     ]
    }
   ],
   "source": [
    "print(xor_decrypt('QBVVU', 'asde'))"
   ]
  },
  {
   "cell_type": "code",
   "execution_count": null,
   "metadata": {},
   "outputs": [],
   "source": [
    "TRIES = 2\n",
    "OFFER_NEXT_GAME = 'Would you like to have another try? (y/n)\\n'\n",
    "GAME_WON_PHRASE = 'Congratulations!'\n",
    "GAME_LOST_PHRASE = 'GAME OVER'\n",
    "LETTERS_LEFT = 'Letters left:'\n",
    "INPUT_PROMPT = 'Guess a letter:\\n'\n",
    "INVALID_INPUT = 'Invalid input, try again'\n",
    "REMAINING_TRIES = 'Tries left:'\n",
    "\n",
    "\n",
    "def initialize(word_list):\n",
    "    i = 0\n",
    "    while i < len(word_list) and start_new_game(word_list[i], TRIES):\n",
    "        i += 1\n",
    "\n",
    "\n",
    "def obfuscate(word, letters_guessed):\n",
    "    obfuscated_word = ''\n",
    "    for char in word:\n",
    "        if char in letters_guessed or not char.isalpha():\n",
    "            obfuscated_word += char\n",
    "        else:\n",
    "            obfuscated_word += '_'\n",
    "    return obfuscated_word\n",
    "    # A more 'pythonic' way\n",
    "    #\n",
    "#     masked = [c if (c in letters_guessed or not c.isalpha()) else '_' for c in word]\n",
    "#     return ''.join(masked)\n",
    "\n",
    "\n",
    "def start_new_game(word, max_tries):\n",
    "    # set things up\n",
    "    letters_guessed = ''\n",
    "    word = word.upper()\n",
    "    game_lost, game_won = False, False\n",
    "    # initial print of the word obfuscated\n",
    "    print(obfuscate(word, ''))\n",
    "    # start the loop\n",
    "    while not (game_lost or game_won):\n",
    "        print(LETTERS_LEFT)\n",
    "        print(''.join(\n",
    "            c for c in 'ABCDEFGHIJKLMNOPQRSTUVWXYZ'\n",
    "            if c not in letters_guessed\n",
    "        ))\n",
    "        print(INPUT_PROMPT)\n",
    "        char = input().upper()\n",
    "        if char in letters_guessed or not char.isalpha() or len(char) > 1:\n",
    "            print(INVALID_INPUT)\n",
    "            continue\n",
    "        letters_guessed += char\n",
    "        if char not in word:\n",
    "            max_tries -= 1\n",
    "            print(REMAINING_TRIES + str(max_tries))\n",
    "            if max_tries == 0:\n",
    "                game_lost = True\n",
    "        print(obfuscate(word, letters_guessed))\n",
    "        if obfuscate(word, letters_guessed) == word.upper():\n",
    "            game_won = True\n",
    "    if game_lost:\n",
    "        # remove this to not reveal the word in case of a loss\n",
    "        print('The word was', word)\n",
    "        print(GAME_LOST_PHRASE)\n",
    "    if game_won:\n",
    "        print(GAME_WON_PHRASE)\n",
    "\n",
    "    print(OFFER_NEXT_GAME)\n",
    "    response = input().lower()\n",
    "    if response == 'n':\n",
    "        return False\n",
    "    if response == 'y':\n",
    "        return True\n",
    "\n",
    "\n",
    "# initialize(['Obi-Wan Kenobi', 'Alladin'])"
   ]
  },
  {
   "cell_type": "code",
   "execution_count": 14,
   "metadata": {},
   "outputs": [],
   "source": [
    "with open('nouns.txt') as nouns_file:\n",
    "    # convert into list and filter out entries with length < 5\n",
    "    words = [word.rstrip() for word in nouns_file if len(word) >= 5]\n",
    "random.shuffle(words)"
   ]
  },
  {
   "cell_type": "code",
   "execution_count": 23,
   "metadata": {},
   "outputs": [],
   "source": [
    "# initialize(['my word'])"
   ]
  },
  {
   "cell_type": "markdown",
   "metadata": {},
   "source": [
    "## Files"
   ]
  },
  {
   "cell_type": "code",
   "execution_count": 16,
   "metadata": {},
   "outputs": [],
   "source": [
    "my_file = open('my_text_file.txt', 'r')"
   ]
  },
  {
   "cell_type": "code",
   "execution_count": 17,
   "metadata": {},
   "outputs": [],
   "source": [
    "lines = my_file.readlines()"
   ]
  },
  {
   "cell_type": "code",
   "execution_count": 18,
   "metadata": {},
   "outputs": [
    {
     "name": "stdout",
     "output_type": "stream",
     "text": [
      "['Heres some content']\n"
     ]
    }
   ],
   "source": [
    "print(lines)"
   ]
  },
  {
   "cell_type": "code",
   "execution_count": 19,
   "metadata": {},
   "outputs": [
    {
     "name": "stdout",
     "output_type": "stream",
     "text": [
      "Heres some content\n"
     ]
    }
   ],
   "source": [
    "for line in lines:\n",
    "    print(line)"
   ]
  },
  {
   "cell_type": "code",
   "execution_count": 20,
   "metadata": {},
   "outputs": [],
   "source": [
    "my_file.close()"
   ]
  },
  {
   "cell_type": "code",
   "execution_count": 21,
   "metadata": {},
   "outputs": [
    {
     "ename": "ValueError",
     "evalue": "I/O operation on closed file.",
     "output_type": "error",
     "traceback": [
      "\u001b[0;31m---------------------------------------------------------------------------\u001b[0m",
      "\u001b[0;31mValueError\u001b[0m                                Traceback (most recent call last)",
      "\u001b[0;32m<ipython-input-21-d9eef9b97f18>\u001b[0m in \u001b[0;36m<module>\u001b[0;34m\u001b[0m\n\u001b[0;32m----> 1\u001b[0;31m \u001b[0mmy_file\u001b[0m\u001b[0;34m.\u001b[0m\u001b[0mreadlines\u001b[0m\u001b[0;34m(\u001b[0m\u001b[0;34m)\u001b[0m\u001b[0;34m\u001b[0m\u001b[0;34m\u001b[0m\u001b[0m\n\u001b[0m",
      "\u001b[0;31mValueError\u001b[0m: I/O operation on closed file."
     ]
    }
   ],
   "source": [
    "my_file.readlines()"
   ]
  },
  {
   "cell_type": "code",
   "execution_count": null,
   "metadata": {},
   "outputs": [],
   "source": [
    "# open file for reading, iterate through lines\n",
    "with open('my_text_file.txt') as my_file:\n",
    "    for line in my_file:\n",
    "        print(line)"
   ]
  },
  {
   "cell_type": "code",
   "execution_count": null,
   "metadata": {},
   "outputs": [],
   "source": [
    "# open for writing, write a line\n",
    "with open('my_text_file.txt', 'w') as my_file:\n",
    "    my_file.write('Heres some content')"
   ]
  },
  {
   "cell_type": "code",
   "execution_count": null,
   "metadata": {},
   "outputs": [],
   "source": [
    "# open for writing(append to the end)\n",
    "with open('my_another_text_file.txt', 'a') as my_file:\n",
    "    my_file.write('\\nHeres some content')"
   ]
  },
  {
   "cell_type": "markdown",
   "metadata": {},
   "source": [
    "## Lists"
   ]
  },
  {
   "cell_type": "code",
   "execution_count": null,
   "metadata": {},
   "outputs": [],
   "source": [
    "my_list = [1, 2, 3]"
   ]
  },
  {
   "cell_type": "code",
   "execution_count": null,
   "metadata": {},
   "outputs": [],
   "source": [
    "my_list = [1, 2, 3, 'my string', 'another_string']"
   ]
  },
  {
   "cell_type": "code",
   "execution_count": null,
   "metadata": {},
   "outputs": [],
   "source": [
    "for element in my_list:\n",
    "    print(element)"
   ]
  },
  {
   "cell_type": "code",
   "execution_count": null,
   "metadata": {},
   "outputs": [],
   "source": [
    "print(len(my_list))"
   ]
  },
  {
   "cell_type": "code",
   "execution_count": null,
   "metadata": {},
   "outputs": [],
   "source": [
    "my_list.append(5)"
   ]
  },
  {
   "cell_type": "code",
   "execution_count": null,
   "metadata": {},
   "outputs": [],
   "source": [
    "print(my_list)"
   ]
  },
  {
   "cell_type": "code",
   "execution_count": null,
   "metadata": {},
   "outputs": [],
   "source": [
    "my_list.insert(2, 15)  # insert by index"
   ]
  },
  {
   "cell_type": "code",
   "execution_count": null,
   "metadata": {},
   "outputs": [],
   "source": [
    "my_list"
   ]
  },
  {
   "cell_type": "code",
   "execution_count": null,
   "metadata": {},
   "outputs": [],
   "source": [
    "print(my_list.pop())"
   ]
  },
  {
   "cell_type": "code",
   "execution_count": null,
   "metadata": {},
   "outputs": [],
   "source": [
    "print(my_list)"
   ]
  },
  {
   "cell_type": "code",
   "execution_count": null,
   "metadata": {},
   "outputs": [],
   "source": [
    "my_list"
   ]
  },
  {
   "cell_type": "code",
   "execution_count": null,
   "metadata": {},
   "outputs": [],
   "source": [
    "my_list.pop(0)"
   ]
  },
  {
   "cell_type": "code",
   "execution_count": null,
   "metadata": {},
   "outputs": [],
   "source": [
    "help(my_list.remove)"
   ]
  },
  {
   "cell_type": "code",
   "execution_count": null,
   "metadata": {},
   "outputs": [],
   "source": [
    "my_list = [1, 2, 3, 4, 5]"
   ]
  },
  {
   "cell_type": "code",
   "execution_count": null,
   "metadata": {},
   "outputs": [],
   "source": [
    "another_list = [n for n in my_list]"
   ]
  },
  {
   "cell_type": "code",
   "execution_count": null,
   "metadata": {},
   "outputs": [],
   "source": [
    "another_list"
   ]
  },
  {
   "cell_type": "code",
   "execution_count": null,
   "metadata": {},
   "outputs": [],
   "source": [
    "for _ in range(3):\n",
    "    another_list.append(5)"
   ]
  },
  {
   "cell_type": "code",
   "execution_count": null,
   "metadata": {},
   "outputs": [],
   "source": [
    "another_list"
   ]
  },
  {
   "cell_type": "code",
   "execution_count": null,
   "metadata": {},
   "outputs": [],
   "source": [
    "another_list = [n for n in my_list if n != 5]\n",
    "# new_list = []\n",
    "# for n in another_list:\n",
    "#     if n != 5:\n",
    "#         new_list.append(n)\n",
    "# print(new_list)"
   ]
  },
  {
   "cell_type": "markdown",
   "metadata": {},
   "source": [
    "## More file examples"
   ]
  },
  {
   "cell_type": "code",
   "execution_count": 30,
   "metadata": {},
   "outputs": [
    {
     "name": "stdout",
     "output_type": "stream",
     "text": [
      "<generator object <genexpr> at 0x11e667408>\n"
     ]
    }
   ],
   "source": [
    "with open('advent_of_code_1_input.txt') as file_with_numbers:\n",
    "#     result = 0\n",
    "#     for number in file_with_numbers:\n",
    "#         result += int(number)\n",
    "#     print(result)\n",
    "    print(sum(int(n) for n in file_with_numbers))"
   ]
  },
  {
   "cell_type": "code",
   "execution_count": 25,
   "metadata": {},
   "outputs": [
    {
     "data": {
      "text/plain": [
       "5"
      ]
     },
     "execution_count": 25,
     "metadata": {},
     "output_type": "execute_result"
    }
   ],
   "source": [
    "int('+5')"
   ]
  },
  {
   "cell_type": "code",
   "execution_count": 29,
   "metadata": {},
   "outputs": [
    {
     "name": "stdout",
     "output_type": "stream",
     "text": [
      "a\n",
      "b\n",
      "c\n"
     ]
    }
   ],
   "source": [
    "my_list = ['a', 'b', 'c']\n",
    "for letter in my_list:\n",
    "    print(letter)"
   ]
  },
  {
   "cell_type": "code",
   "execution_count": 34,
   "metadata": {},
   "outputs": [],
   "source": [
    "my_list = [int(n) for n in [1, 3, 4]]"
   ]
  },
  {
   "cell_type": "code",
   "execution_count": 35,
   "metadata": {},
   "outputs": [
    {
     "data": {
      "text/plain": [
       "[1, 3, 4]"
      ]
     },
     "execution_count": 35,
     "metadata": {},
     "output_type": "execute_result"
    }
   ],
   "source": [
    "my_list"
   ]
  },
  {
   "cell_type": "code",
   "execution_count": 40,
   "metadata": {},
   "outputs": [],
   "source": [
    "my_generator = (int(n) for n in [1, 3, 4])"
   ]
  },
  {
   "cell_type": "code",
   "execution_count": 41,
   "metadata": {},
   "outputs": [
    {
     "name": "stdout",
     "output_type": "stream",
     "text": [
      "1\n",
      "3\n",
      "4\n"
     ]
    }
   ],
   "source": [
    "for number in my_generator:\n",
    "    print(number)"
   ]
  },
  {
   "cell_type": "code",
   "execution_count": 57,
   "metadata": {},
   "outputs": [],
   "source": [
    "def my_generator():\n",
    "    for i in range(10):\n",
    "        yield i"
   ]
  },
  {
   "cell_type": "code",
   "execution_count": 58,
   "metadata": {},
   "outputs": [],
   "source": [
    "g = my_generator()"
   ]
  },
  {
   "cell_type": "code",
   "execution_count": 59,
   "metadata": {},
   "outputs": [
    {
     "name": "stdout",
     "output_type": "stream",
     "text": [
      "0\n",
      "1\n",
      "2\n",
      "3\n",
      "4\n",
      "5\n",
      "6\n",
      "7\n",
      "8\n",
      "9\n"
     ]
    }
   ],
   "source": [
    "for n in g:\n",
    "    print(n)"
   ]
  },
  {
   "cell_type": "markdown",
   "metadata": {},
   "source": [
    "## Tuples and more lists"
   ]
  },
  {
   "cell_type": "code",
   "execution_count": 60,
   "metadata": {},
   "outputs": [],
   "source": [
    "my_list = [1, 2, 3, 4]"
   ]
  },
  {
   "cell_type": "code",
   "execution_count": 74,
   "metadata": {},
   "outputs": [],
   "source": [
    "my_list = list(range(5))"
   ]
  },
  {
   "cell_type": "code",
   "execution_count": 75,
   "metadata": {},
   "outputs": [],
   "source": [
    "my_list[3] = 'lets insert something'"
   ]
  },
  {
   "cell_type": "code",
   "execution_count": 76,
   "metadata": {},
   "outputs": [
    {
     "data": {
      "text/plain": [
       "[0, 1, 2, 'lets insert something', 4]"
      ]
     },
     "execution_count": 76,
     "metadata": {},
     "output_type": "execute_result"
    }
   ],
   "source": [
    "my_list"
   ]
  },
  {
   "cell_type": "code",
   "execution_count": 71,
   "metadata": {},
   "outputs": [
    {
     "ename": "KeyboardInterrupt",
     "evalue": "",
     "output_type": "error",
     "traceback": [
      "\u001b[0;31m---------------------------------------------------------------------------\u001b[0m",
      "\u001b[0;31mKeyboardInterrupt\u001b[0m                         Traceback (most recent call last)",
      "\u001b[0;32m<ipython-input-71-c802bf885028>\u001b[0m in \u001b[0;36m<module>\u001b[0;34m\u001b[0m\n\u001b[1;32m      1\u001b[0m \u001b[0;32mfor\u001b[0m \u001b[0melement\u001b[0m \u001b[0;32min\u001b[0m \u001b[0mmy_list\u001b[0m\u001b[0;34m:\u001b[0m\u001b[0;34m\u001b[0m\u001b[0;34m\u001b[0m\u001b[0m\n\u001b[0;32m----> 2\u001b[0;31m     \u001b[0mmy_list\u001b[0m\u001b[0;34m.\u001b[0m\u001b[0mappend\u001b[0m\u001b[0;34m(\u001b[0m\u001b[0;36m5\u001b[0m\u001b[0;34m)\u001b[0m\u001b[0;34m\u001b[0m\u001b[0;34m\u001b[0m\u001b[0m\n\u001b[0m",
      "\u001b[0;31mKeyboardInterrupt\u001b[0m: "
     ]
    }
   ],
   "source": [
    "for element in my_list:\n",
    "    # DO NOT change the list while iterating over it\n",
    "    my_list.append(5)"
   ]
  },
  {
   "cell_type": "code",
   "execution_count": 77,
   "metadata": {},
   "outputs": [],
   "source": [
    "for index in range(len(my_list)):\n",
    "    # DO NOT change the list while iterating over it\n",
    "    my_list.append(5)"
   ]
  },
  {
   "cell_type": "code",
   "execution_count": 78,
   "metadata": {},
   "outputs": [
    {
     "data": {
      "text/plain": [
       "[0, 1, 2, 'lets insert something', 4, 5, 5, 5, 5, 5]"
      ]
     },
     "execution_count": 78,
     "metadata": {},
     "output_type": "execute_result"
    }
   ],
   "source": [
    "my_list"
   ]
  },
  {
   "cell_type": "code",
   "execution_count": 79,
   "metadata": {},
   "outputs": [],
   "source": [
    "for element in my_list:\n",
    "    # DO NOT change the list while iterating over it\n",
    "    my_list.append(5)"
   ]
  },
  {
   "cell_type": "code",
   "execution_count": 83,
   "metadata": {},
   "outputs": [
    {
     "ename": "KeyboardInterrupt",
     "evalue": "",
     "output_type": "error",
     "traceback": [
      "\u001b[0;31m---------------------------------------------------------------------------\u001b[0m",
      "\u001b[0;31mKeyboardInterrupt\u001b[0m                         Traceback (most recent call last)",
      "\u001b[0;32m<ipython-input-83-c9be5b3e7bb8>\u001b[0m in \u001b[0;36m<module>\u001b[0;34m\u001b[0m\n\u001b[0;32m----> 1\u001b[0;31m \u001b[0;32mfor\u001b[0m \u001b[0mi\u001b[0m\u001b[0;34m,\u001b[0m \u001b[0melement\u001b[0m \u001b[0;32min\u001b[0m \u001b[0menumerate\u001b[0m\u001b[0;34m(\u001b[0m\u001b[0mmy_list\u001b[0m\u001b[0;34m)\u001b[0m\u001b[0;34m:\u001b[0m\u001b[0;34m\u001b[0m\u001b[0;34m\u001b[0m\u001b[0m\n\u001b[0m\u001b[1;32m      2\u001b[0m     \u001b[0;31m# DO NOT change the list while iterating over it\u001b[0m\u001b[0;34m\u001b[0m\u001b[0;34m\u001b[0m\u001b[0;34m\u001b[0m\u001b[0m\n\u001b[1;32m      3\u001b[0m     \u001b[0mmy_list\u001b[0m\u001b[0;34m.\u001b[0m\u001b[0mappend\u001b[0m\u001b[0;34m(\u001b[0m\u001b[0;36m5\u001b[0m\u001b[0;34m)\u001b[0m\u001b[0;34m\u001b[0m\u001b[0;34m\u001b[0m\u001b[0m\n",
      "\u001b[0;31mKeyboardInterrupt\u001b[0m: "
     ]
    }
   ],
   "source": [
    "for i, element in enumerate(my_list):\n",
    "    # DO NOT change the list while iterating over it\n",
    "    my_list.append(5)"
   ]
  },
  {
   "cell_type": "code",
   "execution_count": 81,
   "metadata": {},
   "outputs": [],
   "source": [
    "for element in my_list[:]:\n",
    "    # DO NOT change the list while iterating over it\n",
    "    my_list.append(5)"
   ]
  },
  {
   "cell_type": "code",
   "execution_count": null,
   "metadata": {},
   "outputs": [],
   "source": [
    "my_list"
   ]
  },
  {
   "cell_type": "code",
   "execution_count": 86,
   "metadata": {},
   "outputs": [],
   "source": [
    "my_tuple = (1, 2, 3)"
   ]
  },
  {
   "cell_type": "code",
   "execution_count": 87,
   "metadata": {},
   "outputs": [
    {
     "data": {
      "text/plain": [
       "(1, 2, 3)"
      ]
     },
     "execution_count": 87,
     "metadata": {},
     "output_type": "execute_result"
    }
   ],
   "source": [
    "my_tuple"
   ]
  },
  {
   "cell_type": "code",
   "execution_count": 90,
   "metadata": {},
   "outputs": [],
   "source": [
    "my_tuple = tuple(n for n in range(5))"
   ]
  },
  {
   "cell_type": "code",
   "execution_count": 94,
   "metadata": {},
   "outputs": [],
   "source": [
    "my_tuple += (1, 2)"
   ]
  },
  {
   "cell_type": "code",
   "execution_count": 100,
   "metadata": {},
   "outputs": [
    {
     "data": {
      "text/plain": [
       "(0, 1, 2, 3, 4, 1, 2)"
      ]
     },
     "execution_count": 100,
     "metadata": {},
     "output_type": "execute_result"
    }
   ],
   "source": [
    "my_tuple[:]"
   ]
  },
  {
   "cell_type": "code",
   "execution_count": 103,
   "metadata": {},
   "outputs": [],
   "source": [
    "list_of_coordinates = [(1, 0), (0, 1), (4, 5)]"
   ]
  },
  {
   "cell_type": "code",
   "execution_count": 104,
   "metadata": {},
   "outputs": [
    {
     "data": {
      "text/plain": [
       "[(1, 0), (0, 1), (4, 5)]"
      ]
     },
     "execution_count": 104,
     "metadata": {},
     "output_type": "execute_result"
    }
   ],
   "source": [
    "list_of_coordinates"
   ]
  },
  {
   "cell_type": "code",
   "execution_count": 105,
   "metadata": {},
   "outputs": [],
   "source": [
    "my_list = [1, 2, 3]\n",
    "my_other_list = my_list"
   ]
  },
  {
   "cell_type": "code",
   "execution_count": 106,
   "metadata": {},
   "outputs": [
    {
     "data": {
      "text/plain": [
       "3"
      ]
     },
     "execution_count": 106,
     "metadata": {},
     "output_type": "execute_result"
    }
   ],
   "source": [
    "my_other_list.pop()"
   ]
  },
  {
   "cell_type": "code",
   "execution_count": 107,
   "metadata": {},
   "outputs": [
    {
     "name": "stdout",
     "output_type": "stream",
     "text": [
      "[1, 2] [1, 2]\n"
     ]
    }
   ],
   "source": [
    "print(my_other_list, my_list)"
   ]
  },
  {
   "cell_type": "code",
   "execution_count": 115,
   "metadata": {},
   "outputs": [],
   "source": [
    "my_list = [1, 2, 3]\n",
    "my_other_list = list(my_list)\n",
    "my_other_list = my_list[:]"
   ]
  },
  {
   "cell_type": "code",
   "execution_count": 109,
   "metadata": {},
   "outputs": [
    {
     "data": {
      "text/plain": [
       "list"
      ]
     },
     "execution_count": 109,
     "metadata": {},
     "output_type": "execute_result"
    }
   ],
   "source": [
    "type(my_other_list)"
   ]
  },
  {
   "cell_type": "code",
   "execution_count": 110,
   "metadata": {},
   "outputs": [
    {
     "data": {
      "text/plain": [
       "list"
      ]
     },
     "execution_count": 110,
     "metadata": {},
     "output_type": "execute_result"
    }
   ],
   "source": [
    "type(my_list)"
   ]
  },
  {
   "cell_type": "code",
   "execution_count": 111,
   "metadata": {},
   "outputs": [
    {
     "data": {
      "text/plain": [
       "4801720840"
      ]
     },
     "execution_count": 111,
     "metadata": {},
     "output_type": "execute_result"
    }
   ],
   "source": [
    "id(my_list)"
   ]
  },
  {
   "cell_type": "code",
   "execution_count": 112,
   "metadata": {},
   "outputs": [
    {
     "data": {
      "text/plain": [
       "4800503624"
      ]
     },
     "execution_count": 112,
     "metadata": {},
     "output_type": "execute_result"
    }
   ],
   "source": [
    "id(my_other_list)"
   ]
  },
  {
   "cell_type": "code",
   "execution_count": 113,
   "metadata": {},
   "outputs": [],
   "source": [
    "my_list = [1, 2, 3]\n",
    "my_other_list = my_list"
   ]
  },
  {
   "cell_type": "code",
   "execution_count": 114,
   "metadata": {},
   "outputs": [
    {
     "name": "stdout",
     "output_type": "stream",
     "text": [
      "4806160520 4806160520\n"
     ]
    }
   ],
   "source": [
    "print(id(my_list), id(my_other_list))"
   ]
  },
  {
   "cell_type": "code",
   "execution_count": 116,
   "metadata": {},
   "outputs": [
    {
     "data": {
      "text/plain": [
       "'sakodskao'"
      ]
     },
     "execution_count": 116,
     "metadata": {},
     "output_type": "execute_result"
    }
   ],
   "source": [
    "'oaksdokas'[::-1]"
   ]
  },
  {
   "cell_type": "code",
   "execution_count": 117,
   "metadata": {},
   "outputs": [],
   "source": [
    "obj = reversed(my_list)"
   ]
  },
  {
   "cell_type": "code",
   "execution_count": 118,
   "metadata": {},
   "outputs": [
    {
     "data": {
      "text/plain": [
       "<list_reverseiterator at 0x11e755240>"
      ]
     },
     "execution_count": 118,
     "metadata": {},
     "output_type": "execute_result"
    }
   ],
   "source": [
    "obj"
   ]
  },
  {
   "cell_type": "code",
   "execution_count": 120,
   "metadata": {},
   "outputs": [],
   "source": [
    "my_list.reverse()"
   ]
  },
  {
   "cell_type": "code",
   "execution_count": 121,
   "metadata": {},
   "outputs": [
    {
     "data": {
      "text/plain": [
       "[3, 2, 1]"
      ]
     },
     "execution_count": 121,
     "metadata": {},
     "output_type": "execute_result"
    }
   ],
   "source": [
    "my_list"
   ]
  },
  {
   "cell_type": "code",
   "execution_count": 122,
   "metadata": {},
   "outputs": [],
   "source": [
    "my_list.reverse()"
   ]
  },
  {
   "cell_type": "code",
   "execution_count": 123,
   "metadata": {},
   "outputs": [
    {
     "data": {
      "text/plain": [
       "[1, 2, 3]"
      ]
     },
     "execution_count": 123,
     "metadata": {},
     "output_type": "execute_result"
    }
   ],
   "source": [
    "my_list"
   ]
  },
  {
   "cell_type": "code",
   "execution_count": 124,
   "metadata": {},
   "outputs": [],
   "source": [
    "def first_last6(nums):\n",
    "    \"\"\"\n",
    "    Given an array of ints, return True if 6 appears as either the first\n",
    "    or last element in the array. The array will be length 1 or more.\n",
    "\n",
    "    first_last6([1, 2, 6]) → True\n",
    "    first_last6([6, 1, 2, 3]) → True\n",
    "    first_last6([13, 6, 1, 2, 3]) → False\n",
    "    \"\"\"\n",
    "    return 6 in (nums[-1], nums[0])"
   ]
  },
  {
   "cell_type": "code",
   "execution_count": 125,
   "metadata": {},
   "outputs": [],
   "source": [
    "def same_first_last(nums):\n",
    "    if nums:\n",
    "        return nums[0] == nums[-1]\n",
    "    return False"
   ]
  },
  {
   "cell_type": "code",
   "execution_count": 126,
   "metadata": {},
   "outputs": [],
   "source": [
    "def common_end(a, b):\n",
    "    \"\"\"\n",
    "    Given 2 arrays of ints, a and b, return True\n",
    "    if they have the same first element or they have the same last element.\n",
    "    Both arrays will be length 1 or more.\n",
    "\n",
    "\n",
    "    common_end([1, 2, 3], [7, 3]) → True\n",
    "    common_end([1, 2, 3], [7, 3, 2]) → False\n",
    "    common_end([1, 2, 3], [1, 3]) → True\n",
    "    \"\"\"\n",
    "    return a[0] == b[0] or a[-1] == b[-1]"
   ]
  },
  {
   "cell_type": "code",
   "execution_count": 127,
   "metadata": {},
   "outputs": [],
   "source": [
    "def rotate_left3(nums):\n",
    "    \"\"\"\n",
    "    Given an array of ints length 3,\n",
    "    return an array with the elements \"rotated left\"\n",
    "    so {1, 2, 3} yields {2, 3, 1}.\n",
    "    rotate_left3([1, 2, 3]) → [2, 3, 1]\n",
    "    rotate_left3([5, 11, 9]) → [11, 9, 5]\n",
    "    rotate_left3([7, 0, 0]) → [0, 0, 7]\n",
    "    \"\"\"\n",
    "    nums.append(nums[0])\n",
    "    return nums[1:]"
   ]
  },
  {
   "cell_type": "code",
   "execution_count": 128,
   "metadata": {},
   "outputs": [],
   "source": [
    "def reverse3(nums):\n",
    "    return nums[::-1]\n"
   ]
  },
  {
   "cell_type": "code",
   "execution_count": 131,
   "metadata": {},
   "outputs": [],
   "source": [
    "def max_end3(nums):\n",
    "    \"\"\"\n",
    "    Given an array of ints length 3, figure out which is larger,\n",
    "    the first or last element in the array,\n",
    "    and set all the other elements to be that value.\n",
    "    Return the changed array.\n",
    "    max_end3([1, 2, 3]) → [3, 3, 3]\n",
    "    max_end3([11, 5, 9]) → [11, 11, 11]\n",
    "    max_end3([2, 11, 3]) → [3, 3, 3]\n",
    "    \"\"\"\n",
    "    replace_value = max(nums[0], nums[-1])\n",
    "    return [replace_value for _ in range(3)]"
   ]
  },
  {
   "cell_type": "code",
   "execution_count": 133,
   "metadata": {},
   "outputs": [],
   "source": [
    "def sum2(nums):\n",
    "    \"\"\"\n",
    "    Given an array of ints, return the sum of the first 2 elements in the array.\n",
    "    If the array length is less than 2, just sum up the elements that exist,\n",
    "    returning 0 if the array is length 0.\n",
    "    sum2([1, 2, 3]) → 3\n",
    "    sum2([1, 1]) → 2\n",
    "    sum2([1, 1, 1, 1]) → 2\n",
    "    \"\"\"\n",
    "    return sum(nums[:2])\n"
   ]
  },
  {
   "cell_type": "code",
   "execution_count": 136,
   "metadata": {},
   "outputs": [],
   "source": [
    "def middle_way(a, b):\n",
    "    \"\"\"\n",
    "    Given 2 int arrays, a and b, each length 3,\n",
    "    return a new array length 2 containing their middle elements.\n",
    "    middle_way([1, 2, 3], [4, 5, 6]) → [2, 5]\n",
    "    middle_way([7, 7, 7], [3, 8, 0]) → [7, 8]\n",
    "    middle_way([5, 2, 9], [1, 4, 5]) → [2, 4]\n",
    "    \"\"\"\n",
    "    return [a[1], b[1]]"
   ]
  },
  {
   "cell_type": "code",
   "execution_count": 137,
   "metadata": {},
   "outputs": [],
   "source": [
    "def make_ends(nums):\n",
    "    \"\"\"\n",
    "    Given an array of ints, return a new array length 2 containing\n",
    "    the first and last elements from the original array.\n",
    "    The original array will be length 1 or more.\n",
    "\n",
    "    make_ends([1, 2, 3]) → [1, 3]\n",
    "    make_ends([1, 2, 3, 4]) → [1, 4]\n",
    "    make_ends([7, 4, 6, 2]) → [7, 2]\n",
    "    \"\"\"\n",
    "    return [nums[0], nums[-1]]"
   ]
  },
  {
   "cell_type": "code",
   "execution_count": 141,
   "metadata": {},
   "outputs": [],
   "source": [
    "a, b = make_ends([1, 2, 3])"
   ]
  },
  {
   "cell_type": "code",
   "execution_count": 143,
   "metadata": {},
   "outputs": [],
   "source": [
    "def tuple_test():\n",
    "    return 1, 2"
   ]
  },
  {
   "cell_type": "code",
   "execution_count": 144,
   "metadata": {},
   "outputs": [],
   "source": [
    "value = tuple_test()"
   ]
  },
  {
   "cell_type": "code",
   "execution_count": 146,
   "metadata": {},
   "outputs": [
    {
     "data": {
      "text/plain": [
       "tuple"
      ]
     },
     "execution_count": 146,
     "metadata": {},
     "output_type": "execute_result"
    }
   ],
   "source": [
    "type(value)"
   ]
  },
  {
   "cell_type": "code",
   "execution_count": 147,
   "metadata": {},
   "outputs": [],
   "source": [
    "def has23(nums):\n",
    "    \"\"\"\n",
    "    Given an int array length 2, return True if it contains a 2 or a 3.\n",
    "    has23([2, 5]) → True\n",
    "    has23([4, 3]) → True\n",
    "    has23([4, 5]) → False\n",
    "    \"\"\"\n",
    "    return 2 in nums or 3 in nums"
   ]
  },
  {
   "cell_type": "code",
   "execution_count": 148,
   "metadata": {},
   "outputs": [],
   "source": [
    "import random\n",
    "\n",
    "\n",
    "def one_try(coins, goal):\n",
    "    \"\"\"\n",
    "    place bets while there is at least 1 coin left\n",
    "    probability of winning is 50%, increment/decrement\n",
    "    coins after each run, return tuple\n",
    "    (number_of_bets: int, won: boolean)\n",
    "    print(one_try(5, 10)) -> (20, True)\n",
    "    print(one_try(5, 10)) -> (20, False)\n",
    "    \"\"\"\n",
    "    pass\n",
    "\n",
    "\n",
    "def run_n_trials(coins, goal, trials):\n",
    "    \"\"\"\n",
    "    Run simulation with n trials\n",
    "    return list of tuples (number_of_bets: int, won: boolean)\n",
    "    [(20, True), (10, False), (30, True)]\n",
    "    \"\"\"\n",
    "    pass\n",
    "\n",
    "\n",
    "def get_average_winrate(results):\n",
    "    \"\"\"\n",
    "    Calculate average win rate based on the data returned\n",
    "    from run_n_trials\n",
    "    \"\"\"\n",
    "    pass"
   ]
  },
  {
   "cell_type": "code",
   "execution_count": 149,
   "metadata": {},
   "outputs": [],
   "source": [
    "import random"
   ]
  },
  {
   "cell_type": "code",
   "execution_count": 156,
   "metadata": {},
   "outputs": [
    {
     "data": {
      "text/plain": [
       "0.06487350355821397"
      ]
     },
     "execution_count": 156,
     "metadata": {},
     "output_type": "execute_result"
    }
   ],
   "source": [
    "random.random()"
   ]
  },
  {
   "cell_type": "code",
   "execution_count": 164,
   "metadata": {},
   "outputs": [
    {
     "data": {
      "text/plain": [
       "3"
      ]
     },
     "execution_count": 164,
     "metadata": {},
     "output_type": "execute_result"
    }
   ],
   "source": [
    "random.choice([1, 2, 3, 5])"
   ]
  },
  {
   "cell_type": "code",
   "execution_count": 171,
   "metadata": {},
   "outputs": [
    {
     "data": {
      "text/plain": [
       "-8"
      ]
     },
     "execution_count": 171,
     "metadata": {},
     "output_type": "execute_result"
    }
   ],
   "source": [
    "random.randrange(-5, -15, -1) # includes start but does not include end"
   ]
  },
  {
   "cell_type": "code",
   "execution_count": 175,
   "metadata": {},
   "outputs": [
    {
     "data": {
      "text/plain": [
       "2"
      ]
     },
     "execution_count": 175,
     "metadata": {},
     "output_type": "execute_result"
    }
   ],
   "source": [
    "random.randint(1, 2) # includes both start and end"
   ]
  },
  {
   "cell_type": "code",
   "execution_count": 201,
   "metadata": {},
   "outputs": [
    {
     "data": {
      "text/plain": [
       "3"
      ]
     },
     "execution_count": 201,
     "metadata": {},
     "output_type": "execute_result"
    }
   ],
   "source": [
    "random.seed(1)\n",
    "random.randint(1, 15)"
   ]
  },
  {
   "cell_type": "code",
   "execution_count": 177,
   "metadata": {},
   "outputs": [
    {
     "data": {
      "text/plain": [
       "14"
      ]
     },
     "execution_count": 177,
     "metadata": {},
     "output_type": "execute_result"
    }
   ],
   "source": []
  },
  {
   "cell_type": "code",
   "execution_count": 186,
   "metadata": {},
   "outputs": [
    {
     "data": {
      "text/plain": [
       "15"
      ]
     },
     "execution_count": 186,
     "metadata": {},
     "output_type": "execute_result"
    }
   ],
   "source": [
    "random.randint(1, 15)"
   ]
  },
  {
   "cell_type": "code",
   "execution_count": null,
   "metadata": {},
   "outputs": [],
   "source": [
    "import random\n",
    "import plotly.plotly as py\n",
    "import plotly.graph_objs as go\n",
    "\n",
    "\n",
    "py.sign_in(username='your_user_name', api_key='your_api_key')\n",
    "\n",
    "\n",
    "def one_try():\n",
    "    \"\"\"\n",
    "    returns True if stick wins\n",
    "    \"\"\"\n",
    "    pass\n",
    "\n",
    "\n",
    "def run_trials(trials):\n",
    "    \"\"\"\n",
    "    run n trials and save number of both outcomes\n",
    "    \"\"\"\n",
    "    switch = 30  # some logic\n",
    "    stick = 20  # some logic\n",
    "    return stick, switch\n",
    "\n",
    "\n",
    "def display_sim(sim_result):\n",
    "    \"\"\"\n",
    "    Make a piechart with plotly\n",
    "    \"\"\"\n",
    "    pass"
   ]
  }
 ],
 "metadata": {
  "kernelspec": {
   "display_name": "Python 3",
   "language": "python",
   "name": "python3"
  },
  "language_info": {
   "codemirror_mode": {
    "name": "ipython",
    "version": 3
   },
   "file_extension": ".py",
   "mimetype": "text/x-python",
   "name": "python",
   "nbconvert_exporter": "python",
   "pygments_lexer": "ipython3",
   "version": "3.7.2"
  }
 },
 "nbformat": 4,
 "nbformat_minor": 2
}
